{
 "cells": [
  {
   "cell_type": "markdown",
   "metadata": {},
   "source": [
    "# Financial Planning with APIs and Simulations\n",
    "\n",
    "In this Challenge, you’ll create two financial analysis tools by using a single Jupyter notebook:\n",
    "\n",
    "Part 1: A financial planner for emergencies. The members will be able to use this tool to visualize their current savings. The members can then determine if they have enough reserves for an emergency fund.\n",
    "\n",
    "Part 2: A financial planner for retirement. This tool will forecast the performance of their retirement portfolio in 30 years. To do this, the tool will make an Alpaca API call via the Alpaca SDK to get historical price data for use in Monte Carlo simulations.\n",
    "\n",
    "You’ll use the information from the Monte Carlo simulation to answer questions about the portfolio in your Jupyter notebook.\n",
    "\n"
   ]
  },
  {
   "cell_type": "code",
   "execution_count": 130,
   "metadata": {},
   "outputs": [],
   "source": [
    "# Import the required libraries and dependencies\n",
    "import os\n",
    "import requests\n",
    "import json\n",
    "import pandas as pd\n",
    "from dotenv import load_dotenv\n",
    "import alpaca_trade_api as tradeapi\n",
    "from MCForecastTools import MCSimulation\n",
    "\n",
    "\n",
    "%matplotlib inline"
   ]
  },
  {
   "cell_type": "code",
   "execution_count": 131,
   "metadata": {},
   "outputs": [
    {
     "data": {
      "text/plain": [
       "True"
      ]
     },
     "execution_count": 131,
     "metadata": {},
     "output_type": "execute_result"
    }
   ],
   "source": [
    "# Load the environment variables from the .env file\n",
    "#by calling the load_dotenv function\n",
    "load_dotenv()"
   ]
  },
  {
   "cell_type": "markdown",
   "metadata": {},
   "source": [
    "## Part 1: Create a Financial Planner for Emergencies"
   ]
  },
  {
   "cell_type": "markdown",
   "metadata": {},
   "source": [
    "### Evaluate the Cryptocurrency Wallet by Using the Requests Library\n",
    "\n",
    "In this section, you’ll determine the current value of a member’s cryptocurrency wallet. You’ll collect the current prices for the Bitcoin and Ethereum cryptocurrencies by using the Python Requests library. For the prototype, you’ll assume that the member holds the 1.2 Bitcoins (BTC) and 5.3 Ethereum coins (ETH). To do all this, complete the following steps:\n",
    "\n",
    "1. Create a variable named `monthly_income`, and set its value to `12000`.\n",
    "\n",
    "2. Use the Requests library to get the current price (in US dollars) of Bitcoin (BTC) and Ethereum (ETH) by using the API endpoints that the starter code supplies.\n",
    "\n",
    "3. Navigate the JSON response object to access the current price of each coin, and store each in a variable.\n",
    "\n",
    "    > **Hint** Note the specific identifier for each cryptocurrency in the API JSON response. The Bitcoin identifier is `1`, and the Ethereum identifier is `1027`.\n",
    "\n",
    "4. Calculate the value, in US dollars, of the current amount of each cryptocurrency and of the entire cryptocurrency wallet.\n",
    "\n"
   ]
  },
  {
   "cell_type": "code",
   "execution_count": 132,
   "metadata": {},
   "outputs": [],
   "source": [
    "# The current number of coins for each cryptocurrency asset held in the portfolio.\n",
    "btc_coins = 1.2\n",
    "eth_coins = 5.3"
   ]
  },
  {
   "cell_type": "markdown",
   "metadata": {},
   "source": [
    "#### Step 1: Create a variable named `monthly_income`, and set its value to `12000`."
   ]
  },
  {
   "cell_type": "code",
   "execution_count": 133,
   "metadata": {},
   "outputs": [],
   "source": [
    "# The monthly amount for the member's household income\n",
    "monthly_income = 12000\n"
   ]
  },
  {
   "cell_type": "markdown",
   "metadata": {},
   "source": [
    "#### Review the endpoint URLs for the API calls to Free Crypto API in order to get the current pricing information for both BTC and ETH."
   ]
  },
  {
   "cell_type": "code",
   "execution_count": 134,
   "metadata": {},
   "outputs": [],
   "source": [
    "# The Free Crypto API Call endpoint URLs for the held cryptocurrency assets\n",
    "btc_url = \"https://api.alternative.me/v2/ticker/Bitcoin/?convert=USD\"\n",
    "eth_url = \"https://api.alternative.me/v2/ticker/Ethereum/?convert=USD\""
   ]
  },
  {
   "cell_type": "markdown",
   "metadata": {},
   "source": [
    "#### Step 2. Use the Requests library to get the current price (in US dollars) of Bitcoin (BTC) and Ethereum (ETH) by using the API endpoints that the starter code supplied."
   ]
  },
  {
   "cell_type": "code",
   "execution_count": 135,
   "metadata": {},
   "outputs": [
    {
     "name": "stdout",
     "output_type": "stream",
     "text": [
      "{\n",
      "    \"data\": {\n",
      "        \"1\": {\n",
      "            \"circulating_supply\": 18748106,\n",
      "            \"id\": 1,\n",
      "            \"last_updated\": 1625450390,\n",
      "            \"max_supply\": 21000000,\n",
      "            \"name\": \"Bitcoin\",\n",
      "            \"quotes\": {\n",
      "                \"USD\": {\n",
      "                    \"market_cap\": 649943494441,\n",
      "                    \"percent_change_1h\": -0.628669860678129,\n",
      "                    \"percent_change_24h\": 0.284950957444243,\n",
      "                    \"percent_change_7d\": 0.161683165787863,\n",
      "                    \"percentage_change_1h\": -0.628669860678129,\n",
      "                    \"percentage_change_24h\": 0.284950957444243,\n",
      "                    \"percentage_change_7d\": 0.161683165787863,\n",
      "                    \"price\": 34663.0,\n",
      "                    \"volume_24h\": 23155543140\n",
      "                }\n",
      "            },\n",
      "            \"rank\": 1,\n",
      "            \"symbol\": \"BTC\",\n",
      "            \"total_supply\": 18748106,\n",
      "            \"website_slug\": \"bitcoin\"\n",
      "        }\n",
      "    },\n",
      "    \"metadata\": {\n",
      "        \"error\": null,\n",
      "        \"num_cryptocurrencies\": 1278,\n",
      "        \"timestamp\": 1625450390\n",
      "    }\n",
      "}\n"
     ]
    }
   ],
   "source": [
    "# Using the Python requests library, make an API call to access the current price of BTC\n",
    "btc_response = requests.get(btc_url).json()\n",
    "\n",
    "# Use the json.dumps function to review the response data from the API call\n",
    "# Use the indent and sort_keys parameters to make the response object readable\n",
    "print(json.dumps(btc_response, indent=4, sort_keys=True))\n"
   ]
  },
  {
   "cell_type": "code",
   "execution_count": 136,
   "metadata": {},
   "outputs": [
    {
     "name": "stdout",
     "output_type": "stream",
     "text": [
      "{\n",
      "    \"data\": {\n",
      "        \"1027\": {\n",
      "            \"circulating_supply\": 116562601,\n",
      "            \"id\": 1027,\n",
      "            \"last_updated\": 1625450391,\n",
      "            \"max_supply\": 0,\n",
      "            \"name\": \"Ethereum\",\n",
      "            \"quotes\": {\n",
      "                \"USD\": {\n",
      "                    \"market_cap\": 265479150649,\n",
      "                    \"percent_change_1h\": -1.55669787620079,\n",
      "                    \"percent_change_24h\": 3.28983082054908,\n",
      "                    \"percent_change_7d\": 15.3441120023888,\n",
      "                    \"percentage_change_1h\": -1.55669787620079,\n",
      "                    \"percentage_change_24h\": 3.28983082054908,\n",
      "                    \"percentage_change_7d\": 15.3441120023888,\n",
      "                    \"price\": 2276.81,\n",
      "                    \"volume_24h\": 21505494000\n",
      "                }\n",
      "            },\n",
      "            \"rank\": 2,\n",
      "            \"symbol\": \"ETH\",\n",
      "            \"total_supply\": 116562601,\n",
      "            \"website_slug\": \"ethereum\"\n",
      "        }\n",
      "    },\n",
      "    \"metadata\": {\n",
      "        \"error\": null,\n",
      "        \"num_cryptocurrencies\": 1278,\n",
      "        \"timestamp\": 1625450391\n",
      "    }\n",
      "}\n"
     ]
    }
   ],
   "source": [
    "# Using the Python requests library, make an API call to access the current price ETH\n",
    "eth_response = requests.get(eth_url).json()\n",
    "\n",
    "\n",
    "# Use the json.dumps function to review the response data from the API call\n",
    "# Use the indent and sort_keys parameters to make the response object readable\n",
    "print(json.dumps(eth_response, indent=4, sort_keys=True))\n"
   ]
  },
  {
   "cell_type": "markdown",
   "metadata": {},
   "source": [
    "#### Step 3: Navigate the JSON response object to access the current price of each coin, and store each in a variable."
   ]
  },
  {
   "cell_type": "code",
   "execution_count": 137,
   "metadata": {},
   "outputs": [
    {
     "name": "stdout",
     "output_type": "stream",
     "text": [
      "The current price for Bitcoin is $34663.0\n"
     ]
    }
   ],
   "source": [
    "# Navigate the BTC response object to access the current price of BTC\n",
    "btc_price = btc_response['data']['1']['quotes']['USD']['price']\n",
    "\n",
    "# Print the current price of BTC\n",
    "print(f\"The current price for Bitcoin is ${btc_price}\")\n"
   ]
  },
  {
   "cell_type": "code",
   "execution_count": 138,
   "metadata": {},
   "outputs": [
    {
     "name": "stdout",
     "output_type": "stream",
     "text": [
      "The current price of Ethereum is $2276.81\n"
     ]
    }
   ],
   "source": [
    "# Navigate the BTC response object to access the current price of ETH\n",
    "eth_price = eth_response['data']['1027']['quotes']['USD']['price']\n",
    "\n",
    "# Print the current price of ETH\n",
    "print(f\"The current price of Ethereum is ${eth_price}\")\n"
   ]
  },
  {
   "cell_type": "markdown",
   "metadata": {},
   "source": [
    "### Step 4: Calculate the value, in US dollars, of the current amount of each cryptocurrency and of the entire cryptocurrency wallet."
   ]
  },
  {
   "cell_type": "code",
   "execution_count": 139,
   "metadata": {},
   "outputs": [
    {
     "name": "stdout",
     "output_type": "stream",
     "text": [
      "The current value of the BTC holding is $41595.60\n"
     ]
    }
   ],
   "source": [
    "# Compute the current value of the BTC holding \n",
    "btc_value = btc_price * btc_coins\n",
    "\n",
    "# Print current value of your holding in BTC\n",
    "print(f\"The current value of the BTC holding is ${(btc_value):0.2f}\")\n"
   ]
  },
  {
   "cell_type": "code",
   "execution_count": 140,
   "metadata": {},
   "outputs": [
    {
     "name": "stdout",
     "output_type": "stream",
     "text": [
      "The current value of the ETH holding is $12067.09\n"
     ]
    }
   ],
   "source": [
    "# Compute the current value of the ETH holding \n",
    "eth_value = eth_price * eth_coins\n",
    "\n",
    "# Print current value of your holding in ETH\n",
    "print(f\"The current value of the ETH holding is ${(eth_value):0.2f}\")\n"
   ]
  },
  {
   "cell_type": "code",
   "execution_count": 141,
   "metadata": {},
   "outputs": [
    {
     "data": {
      "text/plain": [
       "53662.693"
      ]
     },
     "execution_count": 141,
     "metadata": {},
     "output_type": "execute_result"
    }
   ],
   "source": [
    "# Compute the total value of the cryptocurrency wallet\n",
    "# Add the value of the BTC holding to the value of the ETH holding\n",
    "total_crypto_wallet = btc_value + eth_value\n",
    "\n",
    "# Print current cryptocurrency wallet balance\n",
    "total_crypto_wallet"
   ]
  },
  {
   "cell_type": "markdown",
   "metadata": {},
   "source": [
    "### Evaluate the Stock and Bond Holdings by Using the Alpaca SDK\n",
    "\n",
    "In this section, you’ll determine the current value of a member’s stock and bond holdings. You’ll make an API call to Alpaca via the Alpaca SDK to get the current closing prices of the SPDR S&P 500 ETF Trust (ticker: SPY) and of the iShares Core US Aggregate Bond ETF (ticker: AGG). For the prototype, assume that the member holds 110 shares of SPY, which represents the stock portion of their portfolio, and 200 shares of AGG, which represents the bond portion. To do all this, complete the following steps:\n",
    "\n",
    "1. In the `Starter_Code` folder, create an environment file (`.env`) to store the values of your Alpaca API key and Alpaca secret key.\n",
    "\n",
    "2. Set the variables for the Alpaca API and secret keys. Using the Alpaca SDK, create the Alpaca `tradeapi.REST` object. In this object, include the parameters for the Alpaca API key, the secret key, and the version number.\n",
    "\n",
    "3. Set the following parameters for the Alpaca API call:\n",
    "\n",
    "    - `tickers`: Use the tickers for the member’s stock and bond holdings.\n",
    "\n",
    "    - `timeframe`: Use a time frame of one day.\n",
    "\n",
    "    - `start_date` and `end_date`: Use the same date for these parameters, and format them with the date of the previous weekday (or `2020-08-07`). This is because you want the one closing price for the most-recent trading day.\n",
    "\n",
    "4. Get the current closing prices for `SPY` and `AGG` by using the Alpaca `get_barset` function. Format the response as a Pandas DataFrame by including the `df` property at the end of the `get_barset` function.\n",
    "\n",
    "5. Navigating the Alpaca response DataFrame, select the `SPY` and `AGG` closing prices, and store them as variables.\n",
    "\n",
    "6. Calculate the value, in US dollars, of the current amount of shares in each of the stock and bond portions of the portfolio, and print the results.\n"
   ]
  },
  {
   "cell_type": "markdown",
   "metadata": {},
   "source": [
    "#### Review the total number of shares held in both (SPY) and (AGG)."
   ]
  },
  {
   "cell_type": "code",
   "execution_count": 142,
   "metadata": {},
   "outputs": [],
   "source": [
    "# Current amount of shares held in both the stock (SPY) and bond (AGG) portion of the portfolio.\n",
    "spy_shares = 110\n",
    "agg_shares = 200\n"
   ]
  },
  {
   "cell_type": "markdown",
   "metadata": {},
   "source": [
    "#### Step 1: In the `Starter_Code` folder, create an environment file (`.env`) to store the values of your Alpaca API key and Alpaca secret key."
   ]
  },
  {
   "cell_type": "markdown",
   "metadata": {},
   "source": [
    "#### Step 2: Set the variables for the Alpaca API and secret keys. Using the Alpaca SDK, create the Alpaca `tradeapi.REST` object. In this object, include the parameters for the Alpaca API key, the secret key, and the version number."
   ]
  },
  {
   "cell_type": "code",
   "execution_count": 143,
   "metadata": {},
   "outputs": [],
   "source": [
    "# Set the variables for the Alpaca API and secret keys\n",
    "alpaca_api_key = os.getenv(\"ALPACA_API_KEY\")\n",
    "alpaca_secret_key = os.getenv(\"ALPACA_SECRET_KEY\")\n",
    "\n",
    "# Create the Alpaca tradeapi.REST object\n",
    "alpaca = tradeapi.REST(\n",
    "    alpaca_api_key,\n",
    "    alpaca_secret_key,\n",
    "    api_version=\"v2\")\n"
   ]
  },
  {
   "cell_type": "markdown",
   "metadata": {},
   "source": [
    "#### Step 3: Set the following parameters for the Alpaca API call:\n",
    "\n",
    "- `tickers`: Use the tickers for the member’s stock and bond holdings.\n",
    "\n",
    "- `timeframe`: Use a time frame of one day.\n",
    "\n",
    "- `start_date` and `end_date`: Use the same date for these parameters, and format them with the date of the previous weekday (or `2020-08-07`). This is because you want the one closing price for the most-recent trading day.\n"
   ]
  },
  {
   "cell_type": "code",
   "execution_count": 144,
   "metadata": {},
   "outputs": [],
   "source": [
    "# Set the tickers for both the bond and stock portion of the portfolio\n",
    "tickers = [\"SPY\", \"AGG\"]\n",
    "\n",
    "# Set timeframe to 1D \n",
    "timeframe = \"1D\"\n",
    "\n",
    "\n",
    "start_date = pd.Timestamp(\"2021-06-30\", tz=\"America/New_York\").isoformat()\n",
    "end_date = pd.Timestamp(\"2021-06-30\", tz=\"America/New_York\").isoformat()\n"
   ]
  },
  {
   "cell_type": "markdown",
   "metadata": {},
   "source": [
    "#### Step 4: Get the current closing prices for `SPY` and `AGG` by using the Alpaca `get_barset` function. Format the response as a Pandas DataFrame by including the `df` property at the end of the `get_barset` function."
   ]
  },
  {
   "cell_type": "code",
   "execution_count": 145,
   "metadata": {},
   "outputs": [
    {
     "data": {
      "text/html": [
       "<div>\n",
       "<style scoped>\n",
       "    .dataframe tbody tr th:only-of-type {\n",
       "        vertical-align: middle;\n",
       "    }\n",
       "\n",
       "    .dataframe tbody tr th {\n",
       "        vertical-align: top;\n",
       "    }\n",
       "\n",
       "    .dataframe thead tr th {\n",
       "        text-align: left;\n",
       "    }\n",
       "\n",
       "    .dataframe thead tr:last-of-type th {\n",
       "        text-align: right;\n",
       "    }\n",
       "</style>\n",
       "<table border=\"1\" class=\"dataframe\">\n",
       "  <thead>\n",
       "    <tr>\n",
       "      <th></th>\n",
       "      <th colspan=\"5\" halign=\"left\">AGG</th>\n",
       "      <th colspan=\"5\" halign=\"left\">SPY</th>\n",
       "    </tr>\n",
       "    <tr>\n",
       "      <th></th>\n",
       "      <th>open</th>\n",
       "      <th>high</th>\n",
       "      <th>low</th>\n",
       "      <th>close</th>\n",
       "      <th>volume</th>\n",
       "      <th>open</th>\n",
       "      <th>high</th>\n",
       "      <th>low</th>\n",
       "      <th>close</th>\n",
       "      <th>volume</th>\n",
       "    </tr>\n",
       "    <tr>\n",
       "      <th>time</th>\n",
       "      <th></th>\n",
       "      <th></th>\n",
       "      <th></th>\n",
       "      <th></th>\n",
       "      <th></th>\n",
       "      <th></th>\n",
       "      <th></th>\n",
       "      <th></th>\n",
       "      <th></th>\n",
       "      <th></th>\n",
       "    </tr>\n",
       "  </thead>\n",
       "  <tbody>\n",
       "    <tr>\n",
       "      <th>2021-06-30 00:00:00-04:00</th>\n",
       "      <td>115.36</td>\n",
       "      <td>115.45</td>\n",
       "      <td>115.3</td>\n",
       "      <td>115.35</td>\n",
       "      <td>5984381</td>\n",
       "      <td>427.2</td>\n",
       "      <td>428.78</td>\n",
       "      <td>427.18</td>\n",
       "      <td>428.08</td>\n",
       "      <td>46776402</td>\n",
       "    </tr>\n",
       "  </tbody>\n",
       "</table>\n",
       "</div>"
      ],
      "text/plain": [
       "                              AGG                                    SPY  \\\n",
       "                             open    high    low   close   volume   open   \n",
       "time                                                                       \n",
       "2021-06-30 00:00:00-04:00  115.36  115.45  115.3  115.35  5984381  427.2   \n",
       "\n",
       "                                                             \n",
       "                             high     low   close    volume  \n",
       "time                                                         \n",
       "2021-06-30 00:00:00-04:00  428.78  427.18  428.08  46776402  "
      ]
     },
     "execution_count": 145,
     "metadata": {},
     "output_type": "execute_result"
    }
   ],
   "source": [
    "# Use the Alpaca get_barset function to get current closing prices the portfolio\n",
    "# Be sure to set the `df` property after the function to format the response object as a DataFrame\n",
    "df_portfolio = alpaca.get_barset(\n",
    "    tickers,\n",
    "    timeframe,\n",
    "    start = start_date,\n",
    "    end = end_date\n",
    ").df\n",
    "\n",
    "# Review the first 5 rows of the Alpaca DataFrame\n",
    "df_portfolio.head()"
   ]
  },
  {
   "cell_type": "markdown",
   "metadata": {},
   "source": [
    "#### Step 5: Navigating the Alpaca response DataFrame, select the `SPY` and `AGG` closing prices, and store them as variables."
   ]
  },
  {
   "cell_type": "code",
   "execution_count": 146,
   "metadata": {},
   "outputs": [
    {
     "data": {
      "text/plain": [
       "115.35"
      ]
     },
     "execution_count": 146,
     "metadata": {},
     "output_type": "execute_result"
    }
   ],
   "source": [
    "# Access the closing price for AGG from the Alpaca DataFrame\n",
    "# Converting the value to a floating point number\n",
    "agg_close_price = float(df_portfolio[\"AGG\"][\"close\"])\n",
    "\n",
    "# Print the AGG closing price\n",
    "agg_close_price\n"
   ]
  },
  {
   "cell_type": "code",
   "execution_count": 147,
   "metadata": {},
   "outputs": [
    {
     "data": {
      "text/plain": [
       "428.08"
      ]
     },
     "execution_count": 147,
     "metadata": {},
     "output_type": "execute_result"
    }
   ],
   "source": [
    "# Access the closing price for SPY from the Alpaca DataFrame\n",
    "# Converting the value to a floating point number\n",
    "spy_close_price = float(df_portfolio[\"SPY\"][\"close\"])\n",
    "\n",
    "# Print the SPY closing price\n",
    "spy_close_price\n"
   ]
  },
  {
   "cell_type": "markdown",
   "metadata": {},
   "source": [
    "#### Step 6: Calculate the value, in US dollars, of the current amount of shares in each of the stock and bond portions of the portfolio, and print the results."
   ]
  },
  {
   "cell_type": "code",
   "execution_count": 148,
   "metadata": {},
   "outputs": [
    {
     "data": {
      "text/plain": [
       "23070.0"
      ]
     },
     "execution_count": 148,
     "metadata": {},
     "output_type": "execute_result"
    }
   ],
   "source": [
    "# Calculate the current value of the bond portion of the portfolio\n",
    "agg_value = agg_close_price * agg_shares\n",
    "\n",
    "# Print the current value of the bond portfolio\n",
    "agg_value\n"
   ]
  },
  {
   "cell_type": "code",
   "execution_count": 149,
   "metadata": {},
   "outputs": [
    {
     "data": {
      "text/plain": [
       "47088.799999999996"
      ]
     },
     "execution_count": 149,
     "metadata": {},
     "output_type": "execute_result"
    }
   ],
   "source": [
    "# Calculate the current value of the stock portion of the portfolio\n",
    "spy_value = spy_close_price * spy_shares\n",
    "\n",
    "# Print the current value of the stock portfolio\n",
    "spy_value\n"
   ]
  },
  {
   "cell_type": "code",
   "execution_count": 150,
   "metadata": {},
   "outputs": [
    {
     "data": {
      "text/plain": [
       "70158.79999999999"
      ]
     },
     "execution_count": 150,
     "metadata": {},
     "output_type": "execute_result"
    }
   ],
   "source": [
    "# Calculate the total value of the stock and bond portion of the portfolio\n",
    "total_stocks_bonds = agg_value + spy_value\n",
    "\n",
    "# Print the current balance of the stock and bond portion of the portfolio\n",
    "total_stocks_bonds\n"
   ]
  },
  {
   "cell_type": "code",
   "execution_count": 151,
   "metadata": {},
   "outputs": [
    {
     "data": {
      "text/plain": [
       "123821.49299999999"
      ]
     },
     "execution_count": 151,
     "metadata": {},
     "output_type": "execute_result"
    }
   ],
   "source": [
    "# Calculate the total value of the member's entire savings portfolio\n",
    "# Add the value of the cryptocurrency walled to the value of the total stocks and bonds\n",
    "total_portfolio = total_crypto_wallet + total_stocks_bonds\n",
    "\n",
    "# Print current cryptocurrency wallet balance\n",
    "total_portfolio\n"
   ]
  },
  {
   "cell_type": "markdown",
   "metadata": {},
   "source": [
    "### Evaluate the Emergency Fund\n",
    "\n",
    "In this section, you’ll use the valuations for the cryptocurrency wallet and for the stock and bond portions of the portfolio to determine if the credit union member has enough savings to build an emergency fund into their financial plan. To do this, complete the following steps:\n",
    "\n",
    "1. Create a Python list named `savings_data` that has two elements. The first element contains the total value of the cryptocurrency wallet. The second element contains the total value of the stock and bond portions of the portfolio.\n",
    "\n",
    "2. Use the `savings_data` list to create a Pandas DataFrame named `savings_df`, and then display this DataFrame. The function to create the DataFrame should take the following three parameters:\n",
    "\n",
    "    - `savings_data`: Use the list that you just created.\n",
    "\n",
    "    - `columns`: Set this parameter equal to a Python list with a single value called `amount`.\n",
    "\n",
    "    - `index`: Set this parameter equal to a Python list with the values of `crypto` and `stock/bond`.\n",
    "\n",
    "3. Use the `savings_df` DataFrame to plot a pie chart that visualizes the composition of the member’s portfolio. The y-axis of the pie chart uses `amount`. Be sure to add a title.\n",
    "\n",
    "4. Using Python, determine if the current portfolio has enough to create an emergency fund as part of the member’s financial plan. Ideally, an emergency fund should equal to three times the member’s monthly income. To do this, implement the following steps:\n",
    "\n",
    "    1. Create a variable named `emergency_fund_value`, and set it equal to three times the value of the member’s `monthly_income` of $12000. (You set this earlier in Part 1).\n",
    "\n",
    "    2. Create a series of three if statements to determine if the member’s total portfolio is large enough to fund the emergency portfolio:\n",
    "\n",
    "        1. If the total portfolio value is greater than the emergency fund value, display a message congratulating the member for having enough money in this fund.\n",
    "\n",
    "        2. Else if the total portfolio value is equal to the emergency fund value, display a message congratulating the member on reaching this important financial goal.\n",
    "\n",
    "        3. Else the total portfolio is less than the emergency fund value, so display a message showing how many dollars away the member is from reaching the goal. (Subtract the total portfolio value from the emergency fund value.)\n"
   ]
  },
  {
   "cell_type": "markdown",
   "metadata": {},
   "source": [
    "#### Step 1: Create a Python list named `savings_data` that has two elements. The first element contains the total value of the cryptocurrency wallet. The second element contains the total value of the stock and bond portions of the portfolio."
   ]
  },
  {
   "cell_type": "code",
   "execution_count": 152,
   "metadata": {},
   "outputs": [
    {
     "data": {
      "text/plain": [
       "[53662.693, 70158.79999999999]"
      ]
     },
     "execution_count": 152,
     "metadata": {},
     "output_type": "execute_result"
    }
   ],
   "source": [
    "# Consolidate financial assets data into a Python list\n",
    "savings_data = [total_crypto_wallet, total_stocks_bonds]\n",
    "\n",
    "# Review the Python list savings_data\n",
    "savings_data\n",
    "    "
   ]
  },
  {
   "cell_type": "markdown",
   "metadata": {},
   "source": [
    "#### Step 2: Use the `savings_data` list to create a Pandas DataFrame named `savings_df`, and then display this DataFrame. The function to create the DataFrame should take the following three parameters:\n",
    "\n",
    "- `savings_data`: Use the list that you just created.\n",
    "\n",
    "- `columns`: Set this parameter equal to a Python list with a single value called `amount`.\n",
    "\n",
    "- `index`: Set this parameter equal to a Python list with the values of `crypto` and `stock/bond`.\n"
   ]
  },
  {
   "cell_type": "code",
   "execution_count": 153,
   "metadata": {},
   "outputs": [
    {
     "data": {
      "text/html": [
       "<div>\n",
       "<style scoped>\n",
       "    .dataframe tbody tr th:only-of-type {\n",
       "        vertical-align: middle;\n",
       "    }\n",
       "\n",
       "    .dataframe tbody tr th {\n",
       "        vertical-align: top;\n",
       "    }\n",
       "\n",
       "    .dataframe thead th {\n",
       "        text-align: right;\n",
       "    }\n",
       "</style>\n",
       "<table border=\"1\" class=\"dataframe\">\n",
       "  <thead>\n",
       "    <tr style=\"text-align: right;\">\n",
       "      <th></th>\n",
       "      <th>Amount</th>\n",
       "    </tr>\n",
       "  </thead>\n",
       "  <tbody>\n",
       "    <tr>\n",
       "      <th>Crypto Currencies</th>\n",
       "      <td>53662.693</td>\n",
       "    </tr>\n",
       "    <tr>\n",
       "      <th>Stocks &amp; Bonds</th>\n",
       "      <td>70158.800</td>\n",
       "    </tr>\n",
       "  </tbody>\n",
       "</table>\n",
       "</div>"
      ],
      "text/plain": [
       "                      Amount\n",
       "Crypto Currencies  53662.693\n",
       "Stocks & Bonds     70158.800"
      ]
     },
     "execution_count": 153,
     "metadata": {},
     "output_type": "execute_result"
    }
   ],
   "source": [
    "# Create a Pandas DataFrame called savings_df \n",
    "savings_df = pd.DataFrame(\n",
    "    {'Amount':[total_crypto_wallet, total_stocks_bonds]},\n",
    "    index=['Crypto Currencies', 'Stocks & Bonds']\n",
    ")\n",
    "\n",
    "\n",
    "# Display the savings_df DataFrame\n",
    "savings_df\n"
   ]
  },
  {
   "cell_type": "markdown",
   "metadata": {},
   "source": [
    "#### Step 3: Use the `savings_df` DataFrame to plot a pie chart that visualizes the composition of the member’s portfolio. The y-axis of the pie chart uses `amount`. Be sure to add a title."
   ]
  },
  {
   "cell_type": "code",
   "execution_count": 154,
   "metadata": {},
   "outputs": [
    {
     "data": {
      "text/plain": [
       "<AxesSubplot:title={'center':'Emergency Funds Portfolio'}, ylabel='Amount'>"
      ]
     },
     "execution_count": 154,
     "metadata": {},
     "output_type": "execute_result"
    },
    {
     "data": {
      "image/png": "[encoded data removed]",
      "text/plain": [
       "<Figure size 432x288 with 1 Axes>"
      ]
     },
     "metadata": {},
     "output_type": "display_data"
    }
   ],
   "source": [
    "# Plot the total value of the member's portfolio (crypto and stock/bond) in a pie chart\n",
    "savings_df.plot.pie(y='Amount', title='Emergency Funds Portfolio')\n",
    "\n"
   ]
  },
  {
   "cell_type": "markdown",
   "metadata": {},
   "source": [
    "#### Step 4: Using Python, determine if the current portfolio has enough to create an emergency fund as part of the member’s financial plan. Ideally, an emergency fund should equal to three times the member’s monthly income. To do this, implement the following steps:\n",
    "\n",
    "Step 1. Create a variable named `emergency_fund_value`, and set it equal to three times the value of the member’s `monthly_income` of 12000. (You set this earlier in Part 1).\n",
    "\n",
    "Step 2. Create a series of three if statements to determine if the member’s total portfolio is large enough to fund the emergency portfolio:\n",
    "\n",
    "* If the total portfolio value is greater than the emergency fund value, display a message congratulating the member for having enough money in this fund.\n",
    "\n",
    "* Else if the total portfolio value is equal to the emergency fund value, display a message congratulating the member on reaching this important financial goal.\n",
    "\n",
    "* Else the total portfolio is less than the emergency fund value, so display a message showing how many dollars away the member is from reaching the goal. (Subtract the total portfolio value from the emergency fund value.)\n"
   ]
  },
  {
   "cell_type": "markdown",
   "metadata": {},
   "source": [
    "##### Step 4-1: Create a variable named `emergency_fund_value`, and set it equal to three times the value of the member’s `monthly_income` of 12000. (You set this earlier in Part 1)."
   ]
  },
  {
   "cell_type": "code",
   "execution_count": 155,
   "metadata": {},
   "outputs": [],
   "source": [
    "# Create a variable named emergency_fund_value\n",
    "emergency_fund_value = monthly_income * 3\n"
   ]
  },
  {
   "cell_type": "markdown",
   "metadata": {},
   "source": [
    "##### Step 4-2: Create a series of three if statements to determine if the member’s total portfolio is large enough to fund the emergency portfolio:\n",
    "\n",
    "* If the total portfolio value is greater than the emergency fund value, display a message congratulating the member for having enough money in this fund.\n",
    "\n",
    "* Else if the total portfolio value is equal to the emergency fund value, display a message congratulating the member on reaching this important financial goal.\n",
    "\n",
    "* Else the total portfolio is less than the emergency fund value, so display a message showing how many dollars away the member is from reaching the goal. (Subtract the total portfolio value from the emergency fund value.)"
   ]
  },
  {
   "cell_type": "code",
   "execution_count": 156,
   "metadata": {},
   "outputs": [
    {
     "name": "stdout",
     "output_type": "stream",
     "text": [
      "Congratulations! You have saved enough to contribute to the emergency portfolio\n"
     ]
    }
   ],
   "source": [
    "# Evaluate the possibility of creating an emergency fund with 3 conditions:\n",
    "if total_portfolio > emergency_fund_value:\n",
    "    print(\"Congratulations! You have saved enough to contribute to the emergency portfolio\")\n",
    "elif total_portfolio == emergency_fund_value:\n",
    "    print(\"Congratulations! Your total portfolio is equal to the emergency fund! You have achieved an important financial milestone.\")\n",
    "else:\n",
    "    print(f\"Unfortunately you do not current have enough funds to fund the emergency portfolio. You are ${(total_portfolio - emergency_fund_value)} away from achieving your goal.\")\n"
   ]
  },
  {
   "cell_type": "markdown",
   "metadata": {},
   "source": [
    "## Part 2: Create a Financial Planner for Retirement"
   ]
  },
  {
   "cell_type": "markdown",
   "metadata": {},
   "source": [
    "### Create the Monte Carlo Simulation\n",
    "\n",
    "In this section, you’ll use the MCForecastTools library to create a Monte Carlo simulation for the member’s savings portfolio. To do this, complete the following steps:\n",
    "\n",
    "1. Make an API call via the Alpaca SDK to get 10 years of historical closing prices for a traditional 60/40 portfolio split: 60% stocks (SPY) and 40% bonds (AGG).\n",
    "\n",
    "2. Run a Monte Carlo simulation of 500 samples and 30 years for the 60/40 portfolio, and then plot the results.The following image shows the overlay line plot resulting from a simulation with these characteristics. However, because a random number generator is used to run each live Monte Carlo simulation, your image will differ slightly from this exact image:\n",
    "\n",
    "![A screenshot depicts the resulting plot.](Images/5-4-monte-carlo-line-plot.png)\n",
    "\n",
    "3. Plot the probability distribution of the Monte Carlo simulation. Plot the probability distribution of the Monte Carlo simulation. The following image shows the histogram plot resulting from a simulation with these characteristics. However, because a random number generator is used to run each live Monte Carlo simulation, your image will differ slightly from this exact image:\n",
    "\n",
    "![A screenshot depicts the histogram plot.](Images/5-4-monte-carlo-histogram.png)\n",
    "\n",
    "4. Generate the summary statistics for the Monte Carlo simulation.\n",
    "\n"
   ]
  },
  {
   "cell_type": "markdown",
   "metadata": {},
   "source": [
    "#### Step 1: Make an API call via the Alpaca SDK to get 10 years of historical closing prices for a traditional 60/40 portfolio split: 60% stocks (SPY) and 40% bonds (AGG)."
   ]
  },
  {
   "cell_type": "code",
   "execution_count": 157,
   "metadata": {},
   "outputs": [],
   "source": [
    "# Set start and end dates of 10 years back from your current date\n",
    "# Alternatively, you can use an end date of 2020-08-07 and work 10 years back from that date \n",
    "tickers = [\"SPY\", \"AGG\"]\n",
    "\n",
    "# Set timeframe to 1D \n",
    "timeframe = \"1D\"\n",
    "\n",
    "\n",
    "start_date = pd.Timestamp(\"2010-08-07\", tz=\"America/New_York\").isoformat()\n",
    "end_date = pd.Timestamp(\"2020-08-07\", tz=\"America/New_York\").isoformat()\n"
   ]
  },
  {
   "cell_type": "code",
   "execution_count": 158,
   "metadata": {},
   "outputs": [
    {
     "data": {
      "text/html": [
       "<div>\n",
       "<style scoped>\n",
       "    .dataframe tbody tr th:only-of-type {\n",
       "        vertical-align: middle;\n",
       "    }\n",
       "\n",
       "    .dataframe tbody tr th {\n",
       "        vertical-align: top;\n",
       "    }\n",
       "\n",
       "    .dataframe thead tr th {\n",
       "        text-align: left;\n",
       "    }\n",
       "\n",
       "    .dataframe thead tr:last-of-type th {\n",
       "        text-align: right;\n",
       "    }\n",
       "</style>\n",
       "<table border=\"1\" class=\"dataframe\">\n",
       "  <thead>\n",
       "    <tr>\n",
       "      <th></th>\n",
       "      <th colspan=\"5\" halign=\"left\">AGG</th>\n",
       "      <th colspan=\"5\" halign=\"left\">SPY</th>\n",
       "    </tr>\n",
       "    <tr>\n",
       "      <th></th>\n",
       "      <th>open</th>\n",
       "      <th>high</th>\n",
       "      <th>low</th>\n",
       "      <th>close</th>\n",
       "      <th>volume</th>\n",
       "      <th>open</th>\n",
       "      <th>high</th>\n",
       "      <th>low</th>\n",
       "      <th>close</th>\n",
       "      <th>volume</th>\n",
       "    </tr>\n",
       "    <tr>\n",
       "      <th>time</th>\n",
       "      <th></th>\n",
       "      <th></th>\n",
       "      <th></th>\n",
       "      <th></th>\n",
       "      <th></th>\n",
       "      <th></th>\n",
       "      <th></th>\n",
       "      <th></th>\n",
       "      <th></th>\n",
       "      <th></th>\n",
       "    </tr>\n",
       "  </thead>\n",
       "  <tbody>\n",
       "    <tr>\n",
       "      <th>2020-08-03 00:00:00-04:00</th>\n",
       "      <td>119.37</td>\n",
       "      <td>119.40</td>\n",
       "      <td>119.1903</td>\n",
       "      <td>119.400</td>\n",
       "      <td>17837420</td>\n",
       "      <td>328.3200</td>\n",
       "      <td>329.62</td>\n",
       "      <td>327.73</td>\n",
       "      <td>328.76</td>\n",
       "      <td>71741125</td>\n",
       "    </tr>\n",
       "    <tr>\n",
       "      <th>2020-08-04 00:00:00-04:00</th>\n",
       "      <td>119.42</td>\n",
       "      <td>119.63</td>\n",
       "      <td>119.4200</td>\n",
       "      <td>119.630</td>\n",
       "      <td>21512268</td>\n",
       "      <td>327.8600</td>\n",
       "      <td>330.06</td>\n",
       "      <td>327.86</td>\n",
       "      <td>330.03</td>\n",
       "      <td>73684427</td>\n",
       "    </tr>\n",
       "    <tr>\n",
       "      <th>2020-08-05 00:00:00-04:00</th>\n",
       "      <td>119.39</td>\n",
       "      <td>119.49</td>\n",
       "      <td>119.3100</td>\n",
       "      <td>119.400</td>\n",
       "      <td>34175883</td>\n",
       "      <td>331.4700</td>\n",
       "      <td>332.39</td>\n",
       "      <td>331.18</td>\n",
       "      <td>332.06</td>\n",
       "      <td>72846458</td>\n",
       "    </tr>\n",
       "    <tr>\n",
       "      <th>2020-08-06 00:00:00-04:00</th>\n",
       "      <td>119.62</td>\n",
       "      <td>119.73</td>\n",
       "      <td>119.5300</td>\n",
       "      <td>119.580</td>\n",
       "      <td>9009216</td>\n",
       "      <td>331.4799</td>\n",
       "      <td>334.46</td>\n",
       "      <td>331.13</td>\n",
       "      <td>334.31</td>\n",
       "      <td>76900649</td>\n",
       "    </tr>\n",
       "    <tr>\n",
       "      <th>2020-08-07 00:00:00-04:00</th>\n",
       "      <td>119.66</td>\n",
       "      <td>119.73</td>\n",
       "      <td>119.3950</td>\n",
       "      <td>119.445</td>\n",
       "      <td>8830420</td>\n",
       "      <td>333.2800</td>\n",
       "      <td>334.88</td>\n",
       "      <td>332.30</td>\n",
       "      <td>334.55</td>\n",
       "      <td>98710236</td>\n",
       "    </tr>\n",
       "  </tbody>\n",
       "</table>\n",
       "</div>"
      ],
      "text/plain": [
       "                              AGG                                       \\\n",
       "                             open    high       low    close    volume   \n",
       "time                                                                     \n",
       "2020-08-03 00:00:00-04:00  119.37  119.40  119.1903  119.400  17837420   \n",
       "2020-08-04 00:00:00-04:00  119.42  119.63  119.4200  119.630  21512268   \n",
       "2020-08-05 00:00:00-04:00  119.39  119.49  119.3100  119.400  34175883   \n",
       "2020-08-06 00:00:00-04:00  119.62  119.73  119.5300  119.580   9009216   \n",
       "2020-08-07 00:00:00-04:00  119.66  119.73  119.3950  119.445   8830420   \n",
       "\n",
       "                                SPY                                    \n",
       "                               open    high     low   close    volume  \n",
       "time                                                                   \n",
       "2020-08-03 00:00:00-04:00  328.3200  329.62  327.73  328.76  71741125  \n",
       "2020-08-04 00:00:00-04:00  327.8600  330.06  327.86  330.03  73684427  \n",
       "2020-08-05 00:00:00-04:00  331.4700  332.39  331.18  332.06  72846458  \n",
       "2020-08-06 00:00:00-04:00  331.4799  334.46  331.13  334.31  76900649  \n",
       "2020-08-07 00:00:00-04:00  333.2800  334.88  332.30  334.55  98710236  "
      ]
     },
     "execution_count": 158,
     "metadata": {},
     "output_type": "execute_result"
    }
   ],
   "source": [
    "# Use the Alpaca get_barset function to make the API call to get the 10 years worth of pricing data\n",
    "# The tickers and timeframe parameters should have been set in Part 1 of this activity \n",
    "# The start and end dates should be updated with the information set above\n",
    "# Remember to add the df property to the end of the call so the response is returned as a DataFrame\n",
    "prices_df = alpaca.get_barset(\n",
    "    tickers,\n",
    "    timeframe,\n",
    "    start=start_date,\n",
    "    end=end_date\n",
    ").df\n",
    "\n",
    "\n",
    "# Display both the first and last five rows of the DataFrame\n",
    "prices_df.head()\n",
    "prices_df.tail()\n"
   ]
  },
  {
   "cell_type": "markdown",
   "metadata": {},
   "source": [
    "#### Step 2: Run a Monte Carlo simulation of 500 samples and 30 years for the 60/40 portfolio, and then plot the results."
   ]
  },
  {
   "cell_type": "code",
   "execution_count": 159,
   "metadata": {},
   "outputs": [
    {
     "data": {
      "text/html": [
       "<div>\n",
       "<style scoped>\n",
       "    .dataframe tbody tr th:only-of-type {\n",
       "        vertical-align: middle;\n",
       "    }\n",
       "\n",
       "    .dataframe tbody tr th {\n",
       "        vertical-align: top;\n",
       "    }\n",
       "\n",
       "    .dataframe thead tr th {\n",
       "        text-align: left;\n",
       "    }\n",
       "\n",
       "    .dataframe thead tr:last-of-type th {\n",
       "        text-align: right;\n",
       "    }\n",
       "</style>\n",
       "<table border=\"1\" class=\"dataframe\">\n",
       "  <thead>\n",
       "    <tr>\n",
       "      <th></th>\n",
       "      <th colspan=\"6\" halign=\"left\">AGG</th>\n",
       "      <th colspan=\"6\" halign=\"left\">SPY</th>\n",
       "    </tr>\n",
       "    <tr>\n",
       "      <th></th>\n",
       "      <th>open</th>\n",
       "      <th>high</th>\n",
       "      <th>low</th>\n",
       "      <th>close</th>\n",
       "      <th>volume</th>\n",
       "      <th>daily_return</th>\n",
       "      <th>open</th>\n",
       "      <th>high</th>\n",
       "      <th>low</th>\n",
       "      <th>close</th>\n",
       "      <th>volume</th>\n",
       "      <th>daily_return</th>\n",
       "    </tr>\n",
       "    <tr>\n",
       "      <th>time</th>\n",
       "      <th></th>\n",
       "      <th></th>\n",
       "      <th></th>\n",
       "      <th></th>\n",
       "      <th></th>\n",
       "      <th></th>\n",
       "      <th></th>\n",
       "      <th></th>\n",
       "      <th></th>\n",
       "      <th></th>\n",
       "      <th></th>\n",
       "      <th></th>\n",
       "    </tr>\n",
       "  </thead>\n",
       "  <tbody>\n",
       "    <tr>\n",
       "      <th>2020-03-18 00:00:00-04:00</th>\n",
       "      <td>109.36</td>\n",
       "      <td>110.5700</td>\n",
       "      <td>105.7707</td>\n",
       "      <td>106.33</td>\n",
       "      <td>30117292</td>\n",
       "      <td>NaN</td>\n",
       "      <td>236.25</td>\n",
       "      <td>248.3700</td>\n",
       "      <td>228.02</td>\n",
       "      <td>241.01</td>\n",
       "      <td>298252778</td>\n",
       "      <td>NaN</td>\n",
       "    </tr>\n",
       "    <tr>\n",
       "      <th>2020-03-19 00:00:00-04:00</th>\n",
       "      <td>106.47</td>\n",
       "      <td>109.2200</td>\n",
       "      <td>105.5600</td>\n",
       "      <td>108.97</td>\n",
       "      <td>21031320</td>\n",
       "      <td>0.024828</td>\n",
       "      <td>239.25</td>\n",
       "      <td>247.3800</td>\n",
       "      <td>232.22</td>\n",
       "      <td>241.16</td>\n",
       "      <td>261233795</td>\n",
       "      <td>0.000622</td>\n",
       "    </tr>\n",
       "    <tr>\n",
       "      <th>2020-03-20 00:00:00-04:00</th>\n",
       "      <td>108.46</td>\n",
       "      <td>110.2399</td>\n",
       "      <td>108.4600</td>\n",
       "      <td>109.49</td>\n",
       "      <td>28449412</td>\n",
       "      <td>0.004772</td>\n",
       "      <td>242.53</td>\n",
       "      <td>244.4700</td>\n",
       "      <td>228.50</td>\n",
       "      <td>228.94</td>\n",
       "      <td>302880969</td>\n",
       "      <td>-0.050672</td>\n",
       "    </tr>\n",
       "    <tr>\n",
       "      <th>2020-03-23 00:00:00-04:00</th>\n",
       "      <td>109.90</td>\n",
       "      <td>112.9400</td>\n",
       "      <td>109.0000</td>\n",
       "      <td>112.55</td>\n",
       "      <td>23873510</td>\n",
       "      <td>0.027948</td>\n",
       "      <td>228.19</td>\n",
       "      <td>229.6833</td>\n",
       "      <td>218.26</td>\n",
       "      <td>222.51</td>\n",
       "      <td>280560712</td>\n",
       "      <td>-0.028086</td>\n",
       "    </tr>\n",
       "    <tr>\n",
       "      <th>2020-03-24 00:00:00-04:00</th>\n",
       "      <td>111.52</td>\n",
       "      <td>113.5000</td>\n",
       "      <td>111.0754</td>\n",
       "      <td>113.29</td>\n",
       "      <td>18141498</td>\n",
       "      <td>0.006575</td>\n",
       "      <td>234.42</td>\n",
       "      <td>244.1000</td>\n",
       "      <td>233.80</td>\n",
       "      <td>243.59</td>\n",
       "      <td>211595249</td>\n",
       "      <td>0.094737</td>\n",
       "    </tr>\n",
       "  </tbody>\n",
       "</table>\n",
       "</div>"
      ],
      "text/plain": [
       "                              AGG                                        \\\n",
       "                             open      high       low   close    volume   \n",
       "time                                                                      \n",
       "2020-03-18 00:00:00-04:00  109.36  110.5700  105.7707  106.33  30117292   \n",
       "2020-03-19 00:00:00-04:00  106.47  109.2200  105.5600  108.97  21031320   \n",
       "2020-03-20 00:00:00-04:00  108.46  110.2399  108.4600  109.49  28449412   \n",
       "2020-03-23 00:00:00-04:00  109.90  112.9400  109.0000  112.55  23873510   \n",
       "2020-03-24 00:00:00-04:00  111.52  113.5000  111.0754  113.29  18141498   \n",
       "\n",
       "                                           SPY                            \\\n",
       "                          daily_return    open      high     low   close   \n",
       "time                                                                       \n",
       "2020-03-18 00:00:00-04:00          NaN  236.25  248.3700  228.02  241.01   \n",
       "2020-03-19 00:00:00-04:00     0.024828  239.25  247.3800  232.22  241.16   \n",
       "2020-03-20 00:00:00-04:00     0.004772  242.53  244.4700  228.50  228.94   \n",
       "2020-03-23 00:00:00-04:00     0.027948  228.19  229.6833  218.26  222.51   \n",
       "2020-03-24 00:00:00-04:00     0.006575  234.42  244.1000  233.80  243.59   \n",
       "\n",
       "                                                   \n",
       "                              volume daily_return  \n",
       "time                                               \n",
       "2020-03-18 00:00:00-04:00  298252778          NaN  \n",
       "2020-03-19 00:00:00-04:00  261233795     0.000622  \n",
       "2020-03-20 00:00:00-04:00  302880969    -0.050672  \n",
       "2020-03-23 00:00:00-04:00  280560712    -0.028086  \n",
       "2020-03-24 00:00:00-04:00  211595249     0.094737  "
      ]
     },
     "execution_count": 159,
     "metadata": {},
     "output_type": "execute_result"
    }
   ],
   "source": [
    "# Configure the Monte Carlo simulation to forecast 30 years cumulative returns\n",
    "# The weights should be split 40% to AGG and 60% to SPY.\n",
    "# Run 500 samples.\n",
    "MC_thrityyear = MCSimulation(\n",
    "    portfolio_data=prices_df,\n",
    "    weights= [.60, .40],\n",
    "    num_simulation= 500,\n",
    "    num_trading_days= 252*30)\n",
    "\n",
    "# Review the simulation input data\n",
    "MC_thrityyear.portfolio_data.head()\n"
   ]
  },
  {
   "cell_type": "code",
   "execution_count": 160,
   "metadata": {},
   "outputs": [
    {
     "name": "stdout",
     "output_type": "stream",
     "text": [
      "Running Monte Carlo simulation number 0.\n",
      "Running Monte Carlo simulation number 10.\n",
      "Running Monte Carlo simulation number 20.\n",
      "Running Monte Carlo simulation number 30.\n",
      "Running Monte Carlo simulation number 40.\n",
      "Running Monte Carlo simulation number 50.\n",
      "Running Monte Carlo simulation number 60.\n",
      "Running Monte Carlo simulation number 70.\n",
      "Running Monte Carlo simulation number 80.\n",
      "Running Monte Carlo simulation number 90.\n",
      "Running Monte Carlo simulation number 100.\n",
      "Running Monte Carlo simulation number 110.\n",
      "Running Monte Carlo simulation number 120.\n",
      "Running Monte Carlo simulation number 130.\n",
      "Running Monte Carlo simulation number 140.\n",
      "Running Monte Carlo simulation number 150.\n",
      "Running Monte Carlo simulation number 160.\n",
      "Running Monte Carlo simulation number 170.\n",
      "Running Monte Carlo simulation number 180.\n",
      "Running Monte Carlo simulation number 190.\n",
      "Running Monte Carlo simulation number 200.\n",
      "Running Monte Carlo simulation number 210.\n",
      "Running Monte Carlo simulation number 220.\n",
      "Running Monte Carlo simulation number 230.\n",
      "Running Monte Carlo simulation number 240.\n",
      "Running Monte Carlo simulation number 250.\n",
      "Running Monte Carlo simulation number 260.\n",
      "Running Monte Carlo simulation number 270.\n",
      "Running Monte Carlo simulation number 280.\n",
      "Running Monte Carlo simulation number 290.\n",
      "Running Monte Carlo simulation number 300.\n",
      "Running Monte Carlo simulation number 310.\n",
      "Running Monte Carlo simulation number 320.\n",
      "Running Monte Carlo simulation number 330.\n",
      "Running Monte Carlo simulation number 340.\n",
      "Running Monte Carlo simulation number 350.\n",
      "Running Monte Carlo simulation number 360.\n",
      "Running Monte Carlo simulation number 370.\n",
      "Running Monte Carlo simulation number 380.\n",
      "Running Monte Carlo simulation number 390.\n",
      "Running Monte Carlo simulation number 400.\n",
      "Running Monte Carlo simulation number 410.\n",
      "Running Monte Carlo simulation number 420.\n",
      "Running Monte Carlo simulation number 430.\n",
      "Running Monte Carlo simulation number 440.\n",
      "Running Monte Carlo simulation number 450.\n",
      "Running Monte Carlo simulation number 460.\n",
      "Running Monte Carlo simulation number 470.\n",
      "Running Monte Carlo simulation number 480.\n",
      "Running Monte Carlo simulation number 490.\n"
     ]
    },
    {
     "data": {
      "text/html": [
       "<div>\n",
       "<style scoped>\n",
       "    .dataframe tbody tr th:only-of-type {\n",
       "        vertical-align: middle;\n",
       "    }\n",
       "\n",
       "    .dataframe tbody tr th {\n",
       "        vertical-align: top;\n",
       "    }\n",
       "\n",
       "    .dataframe thead th {\n",
       "        text-align: right;\n",
       "    }\n",
       "</style>\n",
       "<table border=\"1\" class=\"dataframe\">\n",
       "  <thead>\n",
       "    <tr style=\"text-align: right;\">\n",
       "      <th></th>\n",
       "      <th>0</th>\n",
       "      <th>1</th>\n",
       "      <th>2</th>\n",
       "      <th>3</th>\n",
       "      <th>4</th>\n",
       "      <th>5</th>\n",
       "      <th>6</th>\n",
       "      <th>7</th>\n",
       "      <th>8</th>\n",
       "      <th>9</th>\n",
       "      <th>...</th>\n",
       "      <th>490</th>\n",
       "      <th>491</th>\n",
       "      <th>492</th>\n",
       "      <th>493</th>\n",
       "      <th>494</th>\n",
       "      <th>495</th>\n",
       "      <th>496</th>\n",
       "      <th>497</th>\n",
       "      <th>498</th>\n",
       "      <th>499</th>\n",
       "    </tr>\n",
       "  </thead>\n",
       "  <tbody>\n",
       "    <tr>\n",
       "      <th>0</th>\n",
       "      <td>1.000000e+00</td>\n",
       "      <td>1.000000e+00</td>\n",
       "      <td>1.000000e+00</td>\n",
       "      <td>1.000000e+00</td>\n",
       "      <td>1.000000e+00</td>\n",
       "      <td>1.000000e+00</td>\n",
       "      <td>1.000000e+00</td>\n",
       "      <td>1.000000e+00</td>\n",
       "      <td>1.000000e+00</td>\n",
       "      <td>1.000000e+00</td>\n",
       "      <td>...</td>\n",
       "      <td>1.000000e+00</td>\n",
       "      <td>1.000000e+00</td>\n",
       "      <td>1.000000e+00</td>\n",
       "      <td>1.000000e+00</td>\n",
       "      <td>1.000000e+00</td>\n",
       "      <td>1.000000e+00</td>\n",
       "      <td>1.000000e+00</td>\n",
       "      <td>1.000000e+00</td>\n",
       "      <td>1.000000e+00</td>\n",
       "      <td>1.000000e+00</td>\n",
       "    </tr>\n",
       "    <tr>\n",
       "      <th>1</th>\n",
       "      <td>9.960947e-01</td>\n",
       "      <td>9.924345e-01</td>\n",
       "      <td>1.002145e+00</td>\n",
       "      <td>9.956110e-01</td>\n",
       "      <td>1.012147e+00</td>\n",
       "      <td>9.964473e-01</td>\n",
       "      <td>1.009058e+00</td>\n",
       "      <td>1.004191e+00</td>\n",
       "      <td>1.023329e+00</td>\n",
       "      <td>1.003814e+00</td>\n",
       "      <td>...</td>\n",
       "      <td>1.012930e+00</td>\n",
       "      <td>1.011958e+00</td>\n",
       "      <td>9.934994e-01</td>\n",
       "      <td>1.000294e+00</td>\n",
       "      <td>1.010352e+00</td>\n",
       "      <td>1.016806e+00</td>\n",
       "      <td>1.016991e+00</td>\n",
       "      <td>9.916904e-01</td>\n",
       "      <td>9.980217e-01</td>\n",
       "      <td>9.990937e-01</td>\n",
       "    </tr>\n",
       "    <tr>\n",
       "      <th>2</th>\n",
       "      <td>9.931387e-01</td>\n",
       "      <td>9.943744e-01</td>\n",
       "      <td>1.009218e+00</td>\n",
       "      <td>9.970305e-01</td>\n",
       "      <td>1.013032e+00</td>\n",
       "      <td>9.979157e-01</td>\n",
       "      <td>1.019501e+00</td>\n",
       "      <td>9.945154e-01</td>\n",
       "      <td>1.039237e+00</td>\n",
       "      <td>1.016456e+00</td>\n",
       "      <td>...</td>\n",
       "      <td>1.012083e+00</td>\n",
       "      <td>1.017292e+00</td>\n",
       "      <td>9.974131e-01</td>\n",
       "      <td>1.001132e+00</td>\n",
       "      <td>1.026735e+00</td>\n",
       "      <td>1.008926e+00</td>\n",
       "      <td>1.014051e+00</td>\n",
       "      <td>9.972557e-01</td>\n",
       "      <td>1.002242e+00</td>\n",
       "      <td>9.936387e-01</td>\n",
       "    </tr>\n",
       "    <tr>\n",
       "      <th>3</th>\n",
       "      <td>1.004950e+00</td>\n",
       "      <td>1.003954e+00</td>\n",
       "      <td>1.003709e+00</td>\n",
       "      <td>9.954560e-01</td>\n",
       "      <td>1.014679e+00</td>\n",
       "      <td>1.019555e+00</td>\n",
       "      <td>1.001832e+00</td>\n",
       "      <td>9.897209e-01</td>\n",
       "      <td>1.038681e+00</td>\n",
       "      <td>1.017230e+00</td>\n",
       "      <td>...</td>\n",
       "      <td>1.009325e+00</td>\n",
       "      <td>1.030417e+00</td>\n",
       "      <td>9.913588e-01</td>\n",
       "      <td>1.004166e+00</td>\n",
       "      <td>1.029221e+00</td>\n",
       "      <td>9.980746e-01</td>\n",
       "      <td>1.034336e+00</td>\n",
       "      <td>9.966375e-01</td>\n",
       "      <td>1.007175e+00</td>\n",
       "      <td>1.006777e+00</td>\n",
       "    </tr>\n",
       "    <tr>\n",
       "      <th>4</th>\n",
       "      <td>1.018267e+00</td>\n",
       "      <td>9.993496e-01</td>\n",
       "      <td>9.979319e-01</td>\n",
       "      <td>9.940202e-01</td>\n",
       "      <td>1.007323e+00</td>\n",
       "      <td>1.023134e+00</td>\n",
       "      <td>9.854190e-01</td>\n",
       "      <td>9.986504e-01</td>\n",
       "      <td>1.036509e+00</td>\n",
       "      <td>1.033312e+00</td>\n",
       "      <td>...</td>\n",
       "      <td>1.025138e+00</td>\n",
       "      <td>1.045138e+00</td>\n",
       "      <td>1.005483e+00</td>\n",
       "      <td>9.999691e-01</td>\n",
       "      <td>1.012162e+00</td>\n",
       "      <td>9.943903e-01</td>\n",
       "      <td>1.051209e+00</td>\n",
       "      <td>9.864739e-01</td>\n",
       "      <td>1.013989e+00</td>\n",
       "      <td>9.887999e-01</td>\n",
       "    </tr>\n",
       "    <tr>\n",
       "      <th>...</th>\n",
       "      <td>...</td>\n",
       "      <td>...</td>\n",
       "      <td>...</td>\n",
       "      <td>...</td>\n",
       "      <td>...</td>\n",
       "      <td>...</td>\n",
       "      <td>...</td>\n",
       "      <td>...</td>\n",
       "      <td>...</td>\n",
       "      <td>...</td>\n",
       "      <td>...</td>\n",
       "      <td>...</td>\n",
       "      <td>...</td>\n",
       "      <td>...</td>\n",
       "      <td>...</td>\n",
       "      <td>...</td>\n",
       "      <td>...</td>\n",
       "      <td>...</td>\n",
       "      <td>...</td>\n",
       "      <td>...</td>\n",
       "      <td>...</td>\n",
       "    </tr>\n",
       "    <tr>\n",
       "      <th>7556</th>\n",
       "      <td>4.064745e+06</td>\n",
       "      <td>3.136417e+06</td>\n",
       "      <td>2.390071e+06</td>\n",
       "      <td>3.339272e+06</td>\n",
       "      <td>3.878760e+06</td>\n",
       "      <td>1.912820e+06</td>\n",
       "      <td>1.507903e+07</td>\n",
       "      <td>2.404427e+06</td>\n",
       "      <td>9.858861e+06</td>\n",
       "      <td>1.375392e+07</td>\n",
       "      <td>...</td>\n",
       "      <td>3.490309e+06</td>\n",
       "      <td>3.694533e+06</td>\n",
       "      <td>4.291025e+06</td>\n",
       "      <td>3.287222e+06</td>\n",
       "      <td>1.714939e+06</td>\n",
       "      <td>2.507793e+07</td>\n",
       "      <td>3.197000e+07</td>\n",
       "      <td>2.406987e+06</td>\n",
       "      <td>1.214978e+07</td>\n",
       "      <td>7.798136e+06</td>\n",
       "    </tr>\n",
       "    <tr>\n",
       "      <th>7557</th>\n",
       "      <td>4.089344e+06</td>\n",
       "      <td>3.128309e+06</td>\n",
       "      <td>2.396306e+06</td>\n",
       "      <td>3.319895e+06</td>\n",
       "      <td>3.925738e+06</td>\n",
       "      <td>1.915104e+06</td>\n",
       "      <td>1.483627e+07</td>\n",
       "      <td>2.400558e+06</td>\n",
       "      <td>9.823289e+06</td>\n",
       "      <td>1.377941e+07</td>\n",
       "      <td>...</td>\n",
       "      <td>3.514431e+06</td>\n",
       "      <td>3.685537e+06</td>\n",
       "      <td>4.245208e+06</td>\n",
       "      <td>3.309771e+06</td>\n",
       "      <td>1.721277e+06</td>\n",
       "      <td>2.508934e+07</td>\n",
       "      <td>3.231650e+07</td>\n",
       "      <td>2.371286e+06</td>\n",
       "      <td>1.203952e+07</td>\n",
       "      <td>7.954044e+06</td>\n",
       "    </tr>\n",
       "    <tr>\n",
       "      <th>7558</th>\n",
       "      <td>4.093117e+06</td>\n",
       "      <td>3.144542e+06</td>\n",
       "      <td>2.402590e+06</td>\n",
       "      <td>3.252236e+06</td>\n",
       "      <td>3.981466e+06</td>\n",
       "      <td>1.911668e+06</td>\n",
       "      <td>1.482888e+07</td>\n",
       "      <td>2.396744e+06</td>\n",
       "      <td>9.753203e+06</td>\n",
       "      <td>1.376224e+07</td>\n",
       "      <td>...</td>\n",
       "      <td>3.495743e+06</td>\n",
       "      <td>3.663937e+06</td>\n",
       "      <td>4.273812e+06</td>\n",
       "      <td>3.333682e+06</td>\n",
       "      <td>1.740812e+06</td>\n",
       "      <td>2.478827e+07</td>\n",
       "      <td>3.234851e+07</td>\n",
       "      <td>2.363568e+06</td>\n",
       "      <td>1.220681e+07</td>\n",
       "      <td>7.957883e+06</td>\n",
       "    </tr>\n",
       "    <tr>\n",
       "      <th>7559</th>\n",
       "      <td>4.085085e+06</td>\n",
       "      <td>3.177483e+06</td>\n",
       "      <td>2.385621e+06</td>\n",
       "      <td>3.277313e+06</td>\n",
       "      <td>4.011869e+06</td>\n",
       "      <td>1.896032e+06</td>\n",
       "      <td>1.488883e+07</td>\n",
       "      <td>2.396273e+06</td>\n",
       "      <td>9.734617e+06</td>\n",
       "      <td>1.383634e+07</td>\n",
       "      <td>...</td>\n",
       "      <td>3.473753e+06</td>\n",
       "      <td>3.712390e+06</td>\n",
       "      <td>4.232339e+06</td>\n",
       "      <td>3.287425e+06</td>\n",
       "      <td>1.769809e+06</td>\n",
       "      <td>2.465181e+07</td>\n",
       "      <td>3.216464e+07</td>\n",
       "      <td>2.343101e+06</td>\n",
       "      <td>1.227666e+07</td>\n",
       "      <td>8.074853e+06</td>\n",
       "    </tr>\n",
       "    <tr>\n",
       "      <th>7560</th>\n",
       "      <td>4.086250e+06</td>\n",
       "      <td>3.202869e+06</td>\n",
       "      <td>2.375429e+06</td>\n",
       "      <td>3.283882e+06</td>\n",
       "      <td>4.042264e+06</td>\n",
       "      <td>1.891295e+06</td>\n",
       "      <td>1.475345e+07</td>\n",
       "      <td>2.352718e+06</td>\n",
       "      <td>9.768936e+06</td>\n",
       "      <td>1.388500e+07</td>\n",
       "      <td>...</td>\n",
       "      <td>3.500057e+06</td>\n",
       "      <td>3.683125e+06</td>\n",
       "      <td>4.264158e+06</td>\n",
       "      <td>3.316466e+06</td>\n",
       "      <td>1.773210e+06</td>\n",
       "      <td>2.460085e+07</td>\n",
       "      <td>3.194129e+07</td>\n",
       "      <td>2.371854e+06</td>\n",
       "      <td>1.221167e+07</td>\n",
       "      <td>8.068306e+06</td>\n",
       "    </tr>\n",
       "  </tbody>\n",
       "</table>\n",
       "<p>7561 rows × 500 columns</p>\n",
       "</div>"
      ],
      "text/plain": [
       "               0             1             2             3             4    \\\n",
       "0     1.000000e+00  1.000000e+00  1.000000e+00  1.000000e+00  1.000000e+00   \n",
       "1     9.960947e-01  9.924345e-01  1.002145e+00  9.956110e-01  1.012147e+00   \n",
       "2     9.931387e-01  9.943744e-01  1.009218e+00  9.970305e-01  1.013032e+00   \n",
       "3     1.004950e+00  1.003954e+00  1.003709e+00  9.954560e-01  1.014679e+00   \n",
       "4     1.018267e+00  9.993496e-01  9.979319e-01  9.940202e-01  1.007323e+00   \n",
       "...            ...           ...           ...           ...           ...   \n",
       "7556  4.064745e+06  3.136417e+06  2.390071e+06  3.339272e+06  3.878760e+06   \n",
       "7557  4.089344e+06  3.128309e+06  2.396306e+06  3.319895e+06  3.925738e+06   \n",
       "7558  4.093117e+06  3.144542e+06  2.402590e+06  3.252236e+06  3.981466e+06   \n",
       "7559  4.085085e+06  3.177483e+06  2.385621e+06  3.277313e+06  4.011869e+06   \n",
       "7560  4.086250e+06  3.202869e+06  2.375429e+06  3.283882e+06  4.042264e+06   \n",
       "\n",
       "               5             6             7             8             9    \\\n",
       "0     1.000000e+00  1.000000e+00  1.000000e+00  1.000000e+00  1.000000e+00   \n",
       "1     9.964473e-01  1.009058e+00  1.004191e+00  1.023329e+00  1.003814e+00   \n",
       "2     9.979157e-01  1.019501e+00  9.945154e-01  1.039237e+00  1.016456e+00   \n",
       "3     1.019555e+00  1.001832e+00  9.897209e-01  1.038681e+00  1.017230e+00   \n",
       "4     1.023134e+00  9.854190e-01  9.986504e-01  1.036509e+00  1.033312e+00   \n",
       "...            ...           ...           ...           ...           ...   \n",
       "7556  1.912820e+06  1.507903e+07  2.404427e+06  9.858861e+06  1.375392e+07   \n",
       "7557  1.915104e+06  1.483627e+07  2.400558e+06  9.823289e+06  1.377941e+07   \n",
       "7558  1.911668e+06  1.482888e+07  2.396744e+06  9.753203e+06  1.376224e+07   \n",
       "7559  1.896032e+06  1.488883e+07  2.396273e+06  9.734617e+06  1.383634e+07   \n",
       "7560  1.891295e+06  1.475345e+07  2.352718e+06  9.768936e+06  1.388500e+07   \n",
       "\n",
       "      ...           490           491           492           493  \\\n",
       "0     ...  1.000000e+00  1.000000e+00  1.000000e+00  1.000000e+00   \n",
       "1     ...  1.012930e+00  1.011958e+00  9.934994e-01  1.000294e+00   \n",
       "2     ...  1.012083e+00  1.017292e+00  9.974131e-01  1.001132e+00   \n",
       "3     ...  1.009325e+00  1.030417e+00  9.913588e-01  1.004166e+00   \n",
       "4     ...  1.025138e+00  1.045138e+00  1.005483e+00  9.999691e-01   \n",
       "...   ...           ...           ...           ...           ...   \n",
       "7556  ...  3.490309e+06  3.694533e+06  4.291025e+06  3.287222e+06   \n",
       "7557  ...  3.514431e+06  3.685537e+06  4.245208e+06  3.309771e+06   \n",
       "7558  ...  3.495743e+06  3.663937e+06  4.273812e+06  3.333682e+06   \n",
       "7559  ...  3.473753e+06  3.712390e+06  4.232339e+06  3.287425e+06   \n",
       "7560  ...  3.500057e+06  3.683125e+06  4.264158e+06  3.316466e+06   \n",
       "\n",
       "               494           495           496           497           498  \\\n",
       "0     1.000000e+00  1.000000e+00  1.000000e+00  1.000000e+00  1.000000e+00   \n",
       "1     1.010352e+00  1.016806e+00  1.016991e+00  9.916904e-01  9.980217e-01   \n",
       "2     1.026735e+00  1.008926e+00  1.014051e+00  9.972557e-01  1.002242e+00   \n",
       "3     1.029221e+00  9.980746e-01  1.034336e+00  9.966375e-01  1.007175e+00   \n",
       "4     1.012162e+00  9.943903e-01  1.051209e+00  9.864739e-01  1.013989e+00   \n",
       "...            ...           ...           ...           ...           ...   \n",
       "7556  1.714939e+06  2.507793e+07  3.197000e+07  2.406987e+06  1.214978e+07   \n",
       "7557  1.721277e+06  2.508934e+07  3.231650e+07  2.371286e+06  1.203952e+07   \n",
       "7558  1.740812e+06  2.478827e+07  3.234851e+07  2.363568e+06  1.220681e+07   \n",
       "7559  1.769809e+06  2.465181e+07  3.216464e+07  2.343101e+06  1.227666e+07   \n",
       "7560  1.773210e+06  2.460085e+07  3.194129e+07  2.371854e+06  1.221167e+07   \n",
       "\n",
       "               499  \n",
       "0     1.000000e+00  \n",
       "1     9.990937e-01  \n",
       "2     9.936387e-01  \n",
       "3     1.006777e+00  \n",
       "4     9.887999e-01  \n",
       "...            ...  \n",
       "7556  7.798136e+06  \n",
       "7557  7.954044e+06  \n",
       "7558  7.957883e+06  \n",
       "7559  8.074853e+06  \n",
       "7560  8.068306e+06  \n",
       "\n",
       "[7561 rows x 500 columns]"
      ]
     },
     "execution_count": 160,
     "metadata": {},
     "output_type": "execute_result"
    }
   ],
   "source": [
    "# Run the Monte Carlo simulation to forecast 30 years cumulative returns\n",
    "MC_thrityyear.calc_cumulative_return()\n"
   ]
  },
  {
   "cell_type": "code",
   "execution_count": 164,
   "metadata": {},
   "outputs": [
    {
     "data": {
      "image/png": "[encoded data removed]",
      "text/plain": [
       "<Figure size 432x288 with 1 Axes>"
      ]
     },
     "metadata": {
      "needs_background": "light"
     },
     "output_type": "display_data"
    }
   ],
   "source": [
    "# Visualize the 30-year Monte Carlo simulation by creating an\n",
    "# overlay line plot\n",
    "MC_thrityyear_plot = MC_thrityyear.plot_simulation()\n"
   ]
  },
  {
   "cell_type": "markdown",
   "metadata": {},
   "source": [
    "#### Step 3: Plot the probability distribution of the Monte Carlo simulation."
   ]
  },
  {
   "cell_type": "code",
   "execution_count": 165,
   "metadata": {},
   "outputs": [
    {
     "data": {
      "image/png": "[encoded data removed]",
      "text/plain": [
       "<Figure size 432x288 with 1 Axes>"
      ]
     },
     "metadata": {
      "needs_background": "light"
     },
     "output_type": "display_data"
    }
   ],
   "source": [
    "# Visualize the probability distribution of the 30-year Monte Carlo simulation \n",
    "# by plotting a histogram\n",
    "MC_thrityyear_distribution_plot = MC_thrityyear.plot_distribution()\n"
   ]
  },
  {
   "cell_type": "markdown",
   "metadata": {},
   "source": [
    "#### Step 4: Generate the summary statistics for the Monte Carlo simulation."
   ]
  },
  {
   "cell_type": "code",
   "execution_count": 166,
   "metadata": {},
   "outputs": [
    {
     "name": "stdout",
     "output_type": "stream",
     "text": [
      "count           5.000000e+02\n",
      "mean            9.072352e+06\n",
      "std             9.365041e+06\n",
      "min             6.431974e+05\n",
      "25%             4.075254e+06\n",
      "50%             6.381820e+06\n",
      "75%             1.124217e+07\n",
      "max             1.260498e+08\n",
      "95% CI Lower    1.699550e+06\n",
      "95% CI Upper    3.061254e+07\n",
      "Name: 7560, dtype: float64\n"
     ]
    }
   ],
   "source": [
    "# Generate summary statistics from the 30-year Monte Carlo simulation results\n",
    "# Save the results as a variable\n",
    "MC_summary_statistics = MC_thrityyear.summarize_cumulative_return()\n",
    "\n",
    "\n",
    "\n",
    "# Review the 30-year Monte Carlo summary statistics\n",
    "print(MC_summary_statistics)"
   ]
  },
  {
   "cell_type": "markdown",
   "metadata": {},
   "source": [
    "### Analyze the Retirement Portfolio Forecasts\n",
    "\n",
    "Using the current value of only the stock and bond portion of the member's portfolio and the summary statistics that you generated from the Monte Carlo simulation, answer the following question in your Jupyter notebook:\n",
    "\n",
    "-  What are the lower and upper bounds for the expected value of the portfolio with a 95% confidence interval?\n"
   ]
  },
  {
   "cell_type": "code",
   "execution_count": 167,
   "metadata": {},
   "outputs": [
    {
     "name": "stdout",
     "output_type": "stream",
     "text": [
      "70158.79999999999\n"
     ]
    }
   ],
   "source": [
    "# Print the current balance of the stock and bond portion of the members portfolio\n",
    "print(total_stocks_bonds)\n"
   ]
  },
  {
   "cell_type": "code",
   "execution_count": 168,
   "metadata": {},
   "outputs": [
    {
     "name": "stdout",
     "output_type": "stream",
     "text": [
      "There is a 95% chance that an initial investment of $70158.80 in the portfolio with a 60/40 weight portfolio over the next 30 years will end within in the range of $119238414762.93 and $2147739363420.26.\n"
     ]
    }
   ],
   "source": [
    "# Use the lower and upper `95%` confidence intervals to calculate the range of the possible outcomes for the current stock/bond portfolio\n",
    "ci_lower_thirty_cumulative_return = MC_summary_statistics[8] * total_stocks_bonds\n",
    "ci_upper_thirty_cumulative_return = MC_summary_statistics[9] * total_stocks_bonds\n",
    "\n",
    "# Print the result of your calculations\n",
    "print(f\"There is a 95% chance that an initial investment of ${(total_stocks_bonds):0.2f} in the portfolio\"\n",
    "      f\" with a 60/40 weight portfolio over the next 30 years will end within in the range of\"\n",
    "      f\" ${ci_lower_thirty_cumulative_return:0.2f} and ${ci_upper_thirty_cumulative_return:0.2f}.\")\n"
   ]
  },
  {
   "cell_type": "markdown",
   "metadata": {},
   "source": [
    "### Forecast Cumulative Returns in 10 Years\n",
    "\n",
    "The CTO of the credit union is impressed with your work on these planning tools but wonders if 30 years is a long time to wait until retirement. So, your next task is to adjust the retirement portfolio and run a new Monte Carlo simulation to find out if the changes will allow members to retire earlier.\n",
    "\n",
    "For this new Monte Carlo simulation, do the following: \n",
    "\n",
    "- Forecast the cumulative returns for 10 years from now. Because of the shortened investment horizon (30 years to 10 years), the portfolio needs to invest more heavily in the riskier asset&mdash;that is, stock&mdash;to help accumulate wealth for retirement. \n",
    "\n",
    "- Adjust the weights of the retirement portfolio so that the composition for the Monte Carlo simulation consists of 20% bonds and 80% stocks. \n",
    "\n",
    "- Run the simulation over 500 samples, and use the same data that the API call to Alpaca generated.\n",
    "\n",
    "- Based on the new Monte Carlo simulation, answer the following questions in your Jupyter notebook:\n",
    "\n",
    "    - Using the current value of only the stock and bond portion of the member's portfolio and the summary statistics that you generated from the new Monte Carlo simulation, what are the lower and upper bounds for the expected value of the portfolio (with the new weights) with a 95% confidence interval?\n",
    "\n",
    "    - Will weighting the portfolio more heavily toward stocks allow the credit union members to retire after only 10 years?\n"
   ]
  },
  {
   "cell_type": "code",
   "execution_count": 169,
   "metadata": {},
   "outputs": [
    {
     "data": {
      "text/html": [
       "<div>\n",
       "<style scoped>\n",
       "    .dataframe tbody tr th:only-of-type {\n",
       "        vertical-align: middle;\n",
       "    }\n",
       "\n",
       "    .dataframe tbody tr th {\n",
       "        vertical-align: top;\n",
       "    }\n",
       "\n",
       "    .dataframe thead tr th {\n",
       "        text-align: left;\n",
       "    }\n",
       "\n",
       "    .dataframe thead tr:last-of-type th {\n",
       "        text-align: right;\n",
       "    }\n",
       "</style>\n",
       "<table border=\"1\" class=\"dataframe\">\n",
       "  <thead>\n",
       "    <tr>\n",
       "      <th></th>\n",
       "      <th colspan=\"6\" halign=\"left\">AGG</th>\n",
       "      <th colspan=\"6\" halign=\"left\">SPY</th>\n",
       "    </tr>\n",
       "    <tr>\n",
       "      <th></th>\n",
       "      <th>open</th>\n",
       "      <th>high</th>\n",
       "      <th>low</th>\n",
       "      <th>close</th>\n",
       "      <th>volume</th>\n",
       "      <th>daily_return</th>\n",
       "      <th>open</th>\n",
       "      <th>high</th>\n",
       "      <th>low</th>\n",
       "      <th>close</th>\n",
       "      <th>volume</th>\n",
       "      <th>daily_return</th>\n",
       "    </tr>\n",
       "    <tr>\n",
       "      <th>time</th>\n",
       "      <th></th>\n",
       "      <th></th>\n",
       "      <th></th>\n",
       "      <th></th>\n",
       "      <th></th>\n",
       "      <th></th>\n",
       "      <th></th>\n",
       "      <th></th>\n",
       "      <th></th>\n",
       "      <th></th>\n",
       "      <th></th>\n",
       "      <th></th>\n",
       "    </tr>\n",
       "  </thead>\n",
       "  <tbody>\n",
       "    <tr>\n",
       "      <th>2020-03-18 00:00:00-04:00</th>\n",
       "      <td>109.36</td>\n",
       "      <td>110.5700</td>\n",
       "      <td>105.7707</td>\n",
       "      <td>106.33</td>\n",
       "      <td>30117292</td>\n",
       "      <td>NaN</td>\n",
       "      <td>236.25</td>\n",
       "      <td>248.3700</td>\n",
       "      <td>228.02</td>\n",
       "      <td>241.01</td>\n",
       "      <td>298252778</td>\n",
       "      <td>NaN</td>\n",
       "    </tr>\n",
       "    <tr>\n",
       "      <th>2020-03-19 00:00:00-04:00</th>\n",
       "      <td>106.47</td>\n",
       "      <td>109.2200</td>\n",
       "      <td>105.5600</td>\n",
       "      <td>108.97</td>\n",
       "      <td>21031320</td>\n",
       "      <td>0.024828</td>\n",
       "      <td>239.25</td>\n",
       "      <td>247.3800</td>\n",
       "      <td>232.22</td>\n",
       "      <td>241.16</td>\n",
       "      <td>261233795</td>\n",
       "      <td>0.000622</td>\n",
       "    </tr>\n",
       "    <tr>\n",
       "      <th>2020-03-20 00:00:00-04:00</th>\n",
       "      <td>108.46</td>\n",
       "      <td>110.2399</td>\n",
       "      <td>108.4600</td>\n",
       "      <td>109.49</td>\n",
       "      <td>28449412</td>\n",
       "      <td>0.004772</td>\n",
       "      <td>242.53</td>\n",
       "      <td>244.4700</td>\n",
       "      <td>228.50</td>\n",
       "      <td>228.94</td>\n",
       "      <td>302880969</td>\n",
       "      <td>-0.050672</td>\n",
       "    </tr>\n",
       "    <tr>\n",
       "      <th>2020-03-23 00:00:00-04:00</th>\n",
       "      <td>109.90</td>\n",
       "      <td>112.9400</td>\n",
       "      <td>109.0000</td>\n",
       "      <td>112.55</td>\n",
       "      <td>23873510</td>\n",
       "      <td>0.027948</td>\n",
       "      <td>228.19</td>\n",
       "      <td>229.6833</td>\n",
       "      <td>218.26</td>\n",
       "      <td>222.51</td>\n",
       "      <td>280560712</td>\n",
       "      <td>-0.028086</td>\n",
       "    </tr>\n",
       "    <tr>\n",
       "      <th>2020-03-24 00:00:00-04:00</th>\n",
       "      <td>111.52</td>\n",
       "      <td>113.5000</td>\n",
       "      <td>111.0754</td>\n",
       "      <td>113.29</td>\n",
       "      <td>18141498</td>\n",
       "      <td>0.006575</td>\n",
       "      <td>234.42</td>\n",
       "      <td>244.1000</td>\n",
       "      <td>233.80</td>\n",
       "      <td>243.59</td>\n",
       "      <td>211595249</td>\n",
       "      <td>0.094737</td>\n",
       "    </tr>\n",
       "  </tbody>\n",
       "</table>\n",
       "</div>"
      ],
      "text/plain": [
       "                              AGG                                        \\\n",
       "                             open      high       low   close    volume   \n",
       "time                                                                      \n",
       "2020-03-18 00:00:00-04:00  109.36  110.5700  105.7707  106.33  30117292   \n",
       "2020-03-19 00:00:00-04:00  106.47  109.2200  105.5600  108.97  21031320   \n",
       "2020-03-20 00:00:00-04:00  108.46  110.2399  108.4600  109.49  28449412   \n",
       "2020-03-23 00:00:00-04:00  109.90  112.9400  109.0000  112.55  23873510   \n",
       "2020-03-24 00:00:00-04:00  111.52  113.5000  111.0754  113.29  18141498   \n",
       "\n",
       "                                           SPY                            \\\n",
       "                          daily_return    open      high     low   close   \n",
       "time                                                                       \n",
       "2020-03-18 00:00:00-04:00          NaN  236.25  248.3700  228.02  241.01   \n",
       "2020-03-19 00:00:00-04:00     0.024828  239.25  247.3800  232.22  241.16   \n",
       "2020-03-20 00:00:00-04:00     0.004772  242.53  244.4700  228.50  228.94   \n",
       "2020-03-23 00:00:00-04:00     0.027948  228.19  229.6833  218.26  222.51   \n",
       "2020-03-24 00:00:00-04:00     0.006575  234.42  244.1000  233.80  243.59   \n",
       "\n",
       "                                                   \n",
       "                              volume daily_return  \n",
       "time                                               \n",
       "2020-03-18 00:00:00-04:00  298252778          NaN  \n",
       "2020-03-19 00:00:00-04:00  261233795     0.000622  \n",
       "2020-03-20 00:00:00-04:00  302880969    -0.050672  \n",
       "2020-03-23 00:00:00-04:00  280560712    -0.028086  \n",
       "2020-03-24 00:00:00-04:00  211595249     0.094737  "
      ]
     },
     "execution_count": 169,
     "metadata": {},
     "output_type": "execute_result"
    }
   ],
   "source": [
    "# Configure a Monte Carlo simulation to forecast 10 years cumulative returns\n",
    "# The weights should be split 20% to AGG and 80% to SPY.\n",
    "# Run 500 samples.\n",
    "MC_tenyear = MCSimulation(\n",
    "    portfolio_data=prices_df,\n",
    "    weights= [.20, .80],\n",
    "    num_simulation= 500,\n",
    "    num_trading_days= 252*10)\n",
    "\n",
    "\n",
    "# Review the simulation input data\n",
    "MC_tenyear.portfolio_data.head()\n"
   ]
  },
  {
   "cell_type": "code",
   "execution_count": 170,
   "metadata": {},
   "outputs": [
    {
     "name": "stdout",
     "output_type": "stream",
     "text": [
      "Running Monte Carlo simulation number 0.\n",
      "Running Monte Carlo simulation number 10.\n",
      "Running Monte Carlo simulation number 20.\n",
      "Running Monte Carlo simulation number 30.\n",
      "Running Monte Carlo simulation number 40.\n",
      "Running Monte Carlo simulation number 50.\n",
      "Running Monte Carlo simulation number 60.\n",
      "Running Monte Carlo simulation number 70.\n",
      "Running Monte Carlo simulation number 80.\n",
      "Running Monte Carlo simulation number 90.\n",
      "Running Monte Carlo simulation number 100.\n",
      "Running Monte Carlo simulation number 110.\n",
      "Running Monte Carlo simulation number 120.\n",
      "Running Monte Carlo simulation number 130.\n",
      "Running Monte Carlo simulation number 140.\n",
      "Running Monte Carlo simulation number 150.\n",
      "Running Monte Carlo simulation number 160.\n",
      "Running Monte Carlo simulation number 170.\n",
      "Running Monte Carlo simulation number 180.\n",
      "Running Monte Carlo simulation number 190.\n",
      "Running Monte Carlo simulation number 200.\n",
      "Running Monte Carlo simulation number 210.\n",
      "Running Monte Carlo simulation number 220.\n",
      "Running Monte Carlo simulation number 230.\n",
      "Running Monte Carlo simulation number 240.\n",
      "Running Monte Carlo simulation number 250.\n",
      "Running Monte Carlo simulation number 260.\n",
      "Running Monte Carlo simulation number 270.\n",
      "Running Monte Carlo simulation number 280.\n",
      "Running Monte Carlo simulation number 290.\n",
      "Running Monte Carlo simulation number 300.\n",
      "Running Monte Carlo simulation number 310.\n",
      "Running Monte Carlo simulation number 320.\n",
      "Running Monte Carlo simulation number 330.\n",
      "Running Monte Carlo simulation number 340.\n",
      "Running Monte Carlo simulation number 350.\n",
      "Running Monte Carlo simulation number 360.\n",
      "Running Monte Carlo simulation number 370.\n",
      "Running Monte Carlo simulation number 380.\n",
      "Running Monte Carlo simulation number 390.\n",
      "Running Monte Carlo simulation number 400.\n",
      "Running Monte Carlo simulation number 410.\n",
      "Running Monte Carlo simulation number 420.\n",
      "Running Monte Carlo simulation number 430.\n",
      "Running Monte Carlo simulation number 440.\n",
      "Running Monte Carlo simulation number 450.\n",
      "Running Monte Carlo simulation number 460.\n",
      "Running Monte Carlo simulation number 470.\n",
      "Running Monte Carlo simulation number 480.\n",
      "Running Monte Carlo simulation number 490.\n"
     ]
    },
    {
     "data": {
      "text/html": [
       "<div>\n",
       "<style scoped>\n",
       "    .dataframe tbody tr th:only-of-type {\n",
       "        vertical-align: middle;\n",
       "    }\n",
       "\n",
       "    .dataframe tbody tr th {\n",
       "        vertical-align: top;\n",
       "    }\n",
       "\n",
       "    .dataframe thead th {\n",
       "        text-align: right;\n",
       "    }\n",
       "</style>\n",
       "<table border=\"1\" class=\"dataframe\">\n",
       "  <thead>\n",
       "    <tr style=\"text-align: right;\">\n",
       "      <th></th>\n",
       "      <th>0</th>\n",
       "      <th>1</th>\n",
       "      <th>2</th>\n",
       "      <th>3</th>\n",
       "      <th>4</th>\n",
       "      <th>5</th>\n",
       "      <th>6</th>\n",
       "      <th>7</th>\n",
       "      <th>8</th>\n",
       "      <th>9</th>\n",
       "      <th>...</th>\n",
       "      <th>490</th>\n",
       "      <th>491</th>\n",
       "      <th>492</th>\n",
       "      <th>493</th>\n",
       "      <th>494</th>\n",
       "      <th>495</th>\n",
       "      <th>496</th>\n",
       "      <th>497</th>\n",
       "      <th>498</th>\n",
       "      <th>499</th>\n",
       "    </tr>\n",
       "  </thead>\n",
       "  <tbody>\n",
       "    <tr>\n",
       "      <th>0</th>\n",
       "      <td>1.000000</td>\n",
       "      <td>1.000000</td>\n",
       "      <td>1.000000</td>\n",
       "      <td>1.000000</td>\n",
       "      <td>1.000000</td>\n",
       "      <td>1.000000</td>\n",
       "      <td>1.000000</td>\n",
       "      <td>1.000000</td>\n",
       "      <td>1.000000</td>\n",
       "      <td>1.000000</td>\n",
       "      <td>...</td>\n",
       "      <td>1.000000</td>\n",
       "      <td>1.000000</td>\n",
       "      <td>1.000000</td>\n",
       "      <td>1.000000</td>\n",
       "      <td>1.000000</td>\n",
       "      <td>1.000000</td>\n",
       "      <td>1.000000</td>\n",
       "      <td>1.000000</td>\n",
       "      <td>1.000000</td>\n",
       "      <td>1.000000</td>\n",
       "    </tr>\n",
       "    <tr>\n",
       "      <th>1</th>\n",
       "      <td>1.028617</td>\n",
       "      <td>1.007179</td>\n",
       "      <td>1.002315</td>\n",
       "      <td>1.010190</td>\n",
       "      <td>0.994549</td>\n",
       "      <td>0.999389</td>\n",
       "      <td>0.997615</td>\n",
       "      <td>1.017891</td>\n",
       "      <td>1.010543</td>\n",
       "      <td>0.995512</td>\n",
       "      <td>...</td>\n",
       "      <td>0.950551</td>\n",
       "      <td>0.986047</td>\n",
       "      <td>1.012504</td>\n",
       "      <td>0.977276</td>\n",
       "      <td>1.028585</td>\n",
       "      <td>1.006396</td>\n",
       "      <td>1.011493</td>\n",
       "      <td>0.998677</td>\n",
       "      <td>1.004564</td>\n",
       "      <td>0.990167</td>\n",
       "    </tr>\n",
       "    <tr>\n",
       "      <th>2</th>\n",
       "      <td>1.060782</td>\n",
       "      <td>0.995471</td>\n",
       "      <td>1.023482</td>\n",
       "      <td>1.024500</td>\n",
       "      <td>0.980334</td>\n",
       "      <td>0.999994</td>\n",
       "      <td>0.975934</td>\n",
       "      <td>1.036605</td>\n",
       "      <td>1.025726</td>\n",
       "      <td>0.998139</td>\n",
       "      <td>...</td>\n",
       "      <td>0.958910</td>\n",
       "      <td>1.005339</td>\n",
       "      <td>1.004156</td>\n",
       "      <td>0.993563</td>\n",
       "      <td>1.027515</td>\n",
       "      <td>1.008921</td>\n",
       "      <td>1.031786</td>\n",
       "      <td>1.007329</td>\n",
       "      <td>0.991380</td>\n",
       "      <td>0.985837</td>\n",
       "    </tr>\n",
       "    <tr>\n",
       "      <th>3</th>\n",
       "      <td>1.069508</td>\n",
       "      <td>1.005606</td>\n",
       "      <td>1.015062</td>\n",
       "      <td>1.026097</td>\n",
       "      <td>0.977138</td>\n",
       "      <td>1.005622</td>\n",
       "      <td>0.965634</td>\n",
       "      <td>1.022988</td>\n",
       "      <td>1.032604</td>\n",
       "      <td>0.987571</td>\n",
       "      <td>...</td>\n",
       "      <td>0.963814</td>\n",
       "      <td>1.010012</td>\n",
       "      <td>1.006581</td>\n",
       "      <td>0.995671</td>\n",
       "      <td>1.036564</td>\n",
       "      <td>1.017617</td>\n",
       "      <td>1.072162</td>\n",
       "      <td>1.015599</td>\n",
       "      <td>0.997323</td>\n",
       "      <td>0.971407</td>\n",
       "    </tr>\n",
       "    <tr>\n",
       "      <th>4</th>\n",
       "      <td>1.088387</td>\n",
       "      <td>1.039234</td>\n",
       "      <td>1.009954</td>\n",
       "      <td>1.053437</td>\n",
       "      <td>0.978173</td>\n",
       "      <td>1.034882</td>\n",
       "      <td>0.985377</td>\n",
       "      <td>0.994068</td>\n",
       "      <td>1.021282</td>\n",
       "      <td>0.981444</td>\n",
       "      <td>...</td>\n",
       "      <td>0.971750</td>\n",
       "      <td>1.011790</td>\n",
       "      <td>1.005074</td>\n",
       "      <td>0.979862</td>\n",
       "      <td>1.035773</td>\n",
       "      <td>1.055017</td>\n",
       "      <td>1.083702</td>\n",
       "      <td>1.028410</td>\n",
       "      <td>1.020284</td>\n",
       "      <td>0.968310</td>\n",
       "    </tr>\n",
       "    <tr>\n",
       "      <th>...</th>\n",
       "      <td>...</td>\n",
       "      <td>...</td>\n",
       "      <td>...</td>\n",
       "      <td>...</td>\n",
       "      <td>...</td>\n",
       "      <td>...</td>\n",
       "      <td>...</td>\n",
       "      <td>...</td>\n",
       "      <td>...</td>\n",
       "      <td>...</td>\n",
       "      <td>...</td>\n",
       "      <td>...</td>\n",
       "      <td>...</td>\n",
       "      <td>...</td>\n",
       "      <td>...</td>\n",
       "      <td>...</td>\n",
       "      <td>...</td>\n",
       "      <td>...</td>\n",
       "      <td>...</td>\n",
       "      <td>...</td>\n",
       "      <td>...</td>\n",
       "    </tr>\n",
       "    <tr>\n",
       "      <th>2516</th>\n",
       "      <td>3241.026408</td>\n",
       "      <td>1672.037493</td>\n",
       "      <td>14536.661889</td>\n",
       "      <td>5139.726036</td>\n",
       "      <td>1067.940495</td>\n",
       "      <td>2567.762314</td>\n",
       "      <td>2843.288841</td>\n",
       "      <td>1797.696040</td>\n",
       "      <td>2778.408656</td>\n",
       "      <td>2154.275503</td>\n",
       "      <td>...</td>\n",
       "      <td>2287.581741</td>\n",
       "      <td>880.096097</td>\n",
       "      <td>1000.814163</td>\n",
       "      <td>1771.530497</td>\n",
       "      <td>2757.202476</td>\n",
       "      <td>5503.981448</td>\n",
       "      <td>154.695754</td>\n",
       "      <td>7028.247015</td>\n",
       "      <td>594.383054</td>\n",
       "      <td>1696.860547</td>\n",
       "    </tr>\n",
       "    <tr>\n",
       "      <th>2517</th>\n",
       "      <td>3291.065011</td>\n",
       "      <td>1675.178280</td>\n",
       "      <td>14556.893513</td>\n",
       "      <td>5064.570866</td>\n",
       "      <td>1046.667530</td>\n",
       "      <td>2543.760996</td>\n",
       "      <td>2919.761779</td>\n",
       "      <td>1818.917077</td>\n",
       "      <td>2762.318001</td>\n",
       "      <td>2176.945938</td>\n",
       "      <td>...</td>\n",
       "      <td>2271.838511</td>\n",
       "      <td>866.082872</td>\n",
       "      <td>977.291762</td>\n",
       "      <td>1784.998288</td>\n",
       "      <td>2834.176510</td>\n",
       "      <td>5455.721470</td>\n",
       "      <td>158.593230</td>\n",
       "      <td>7015.467839</td>\n",
       "      <td>612.822566</td>\n",
       "      <td>1667.332969</td>\n",
       "    </tr>\n",
       "    <tr>\n",
       "      <th>2518</th>\n",
       "      <td>3270.866081</td>\n",
       "      <td>1644.741962</td>\n",
       "      <td>14472.722102</td>\n",
       "      <td>5098.665223</td>\n",
       "      <td>1051.808427</td>\n",
       "      <td>2475.259700</td>\n",
       "      <td>2991.481618</td>\n",
       "      <td>1830.058115</td>\n",
       "      <td>2794.068385</td>\n",
       "      <td>2213.051978</td>\n",
       "      <td>...</td>\n",
       "      <td>2259.350111</td>\n",
       "      <td>850.160698</td>\n",
       "      <td>952.913264</td>\n",
       "      <td>1766.639153</td>\n",
       "      <td>2760.975932</td>\n",
       "      <td>5442.899699</td>\n",
       "      <td>158.351230</td>\n",
       "      <td>6872.470307</td>\n",
       "      <td>622.324390</td>\n",
       "      <td>1690.530799</td>\n",
       "    </tr>\n",
       "    <tr>\n",
       "      <th>2519</th>\n",
       "      <td>3280.366816</td>\n",
       "      <td>1610.055892</td>\n",
       "      <td>14276.613409</td>\n",
       "      <td>5140.044898</td>\n",
       "      <td>1063.564801</td>\n",
       "      <td>2421.112205</td>\n",
       "      <td>2920.126223</td>\n",
       "      <td>1880.790175</td>\n",
       "      <td>2858.376350</td>\n",
       "      <td>2155.845764</td>\n",
       "      <td>...</td>\n",
       "      <td>2253.947222</td>\n",
       "      <td>848.576605</td>\n",
       "      <td>933.825347</td>\n",
       "      <td>1803.074408</td>\n",
       "      <td>2761.995074</td>\n",
       "      <td>5519.928739</td>\n",
       "      <td>158.089918</td>\n",
       "      <td>6778.208194</td>\n",
       "      <td>620.457116</td>\n",
       "      <td>1683.648188</td>\n",
       "    </tr>\n",
       "    <tr>\n",
       "      <th>2520</th>\n",
       "      <td>3346.808039</td>\n",
       "      <td>1622.891874</td>\n",
       "      <td>13975.965399</td>\n",
       "      <td>5311.454049</td>\n",
       "      <td>1060.586098</td>\n",
       "      <td>2409.445154</td>\n",
       "      <td>2931.245531</td>\n",
       "      <td>1898.077455</td>\n",
       "      <td>2833.983094</td>\n",
       "      <td>2166.083481</td>\n",
       "      <td>...</td>\n",
       "      <td>2220.763688</td>\n",
       "      <td>850.850134</td>\n",
       "      <td>971.609080</td>\n",
       "      <td>1788.039520</td>\n",
       "      <td>2755.378334</td>\n",
       "      <td>5675.531553</td>\n",
       "      <td>161.229442</td>\n",
       "      <td>7065.902856</td>\n",
       "      <td>606.320480</td>\n",
       "      <td>1680.247508</td>\n",
       "    </tr>\n",
       "  </tbody>\n",
       "</table>\n",
       "<p>2521 rows × 500 columns</p>\n",
       "</div>"
      ],
      "text/plain": [
       "              0            1             2            3            4    \\\n",
       "0        1.000000     1.000000      1.000000     1.000000     1.000000   \n",
       "1        1.028617     1.007179      1.002315     1.010190     0.994549   \n",
       "2        1.060782     0.995471      1.023482     1.024500     0.980334   \n",
       "3        1.069508     1.005606      1.015062     1.026097     0.977138   \n",
       "4        1.088387     1.039234      1.009954     1.053437     0.978173   \n",
       "...           ...          ...           ...          ...          ...   \n",
       "2516  3241.026408  1672.037493  14536.661889  5139.726036  1067.940495   \n",
       "2517  3291.065011  1675.178280  14556.893513  5064.570866  1046.667530   \n",
       "2518  3270.866081  1644.741962  14472.722102  5098.665223  1051.808427   \n",
       "2519  3280.366816  1610.055892  14276.613409  5140.044898  1063.564801   \n",
       "2520  3346.808039  1622.891874  13975.965399  5311.454049  1060.586098   \n",
       "\n",
       "              5            6            7            8            9    ...  \\\n",
       "0        1.000000     1.000000     1.000000     1.000000     1.000000  ...   \n",
       "1        0.999389     0.997615     1.017891     1.010543     0.995512  ...   \n",
       "2        0.999994     0.975934     1.036605     1.025726     0.998139  ...   \n",
       "3        1.005622     0.965634     1.022988     1.032604     0.987571  ...   \n",
       "4        1.034882     0.985377     0.994068     1.021282     0.981444  ...   \n",
       "...           ...          ...          ...          ...          ...  ...   \n",
       "2516  2567.762314  2843.288841  1797.696040  2778.408656  2154.275503  ...   \n",
       "2517  2543.760996  2919.761779  1818.917077  2762.318001  2176.945938  ...   \n",
       "2518  2475.259700  2991.481618  1830.058115  2794.068385  2213.051978  ...   \n",
       "2519  2421.112205  2920.126223  1880.790175  2858.376350  2155.845764  ...   \n",
       "2520  2409.445154  2931.245531  1898.077455  2833.983094  2166.083481  ...   \n",
       "\n",
       "              490         491          492          493          494  \\\n",
       "0        1.000000    1.000000     1.000000     1.000000     1.000000   \n",
       "1        0.950551    0.986047     1.012504     0.977276     1.028585   \n",
       "2        0.958910    1.005339     1.004156     0.993563     1.027515   \n",
       "3        0.963814    1.010012     1.006581     0.995671     1.036564   \n",
       "4        0.971750    1.011790     1.005074     0.979862     1.035773   \n",
       "...           ...         ...          ...          ...          ...   \n",
       "2516  2287.581741  880.096097  1000.814163  1771.530497  2757.202476   \n",
       "2517  2271.838511  866.082872   977.291762  1784.998288  2834.176510   \n",
       "2518  2259.350111  850.160698   952.913264  1766.639153  2760.975932   \n",
       "2519  2253.947222  848.576605   933.825347  1803.074408  2761.995074   \n",
       "2520  2220.763688  850.850134   971.609080  1788.039520  2755.378334   \n",
       "\n",
       "              495         496          497         498          499  \n",
       "0        1.000000    1.000000     1.000000    1.000000     1.000000  \n",
       "1        1.006396    1.011493     0.998677    1.004564     0.990167  \n",
       "2        1.008921    1.031786     1.007329    0.991380     0.985837  \n",
       "3        1.017617    1.072162     1.015599    0.997323     0.971407  \n",
       "4        1.055017    1.083702     1.028410    1.020284     0.968310  \n",
       "...           ...         ...          ...         ...          ...  \n",
       "2516  5503.981448  154.695754  7028.247015  594.383054  1696.860547  \n",
       "2517  5455.721470  158.593230  7015.467839  612.822566  1667.332969  \n",
       "2518  5442.899699  158.351230  6872.470307  622.324390  1690.530799  \n",
       "2519  5519.928739  158.089918  6778.208194  620.457116  1683.648188  \n",
       "2520  5675.531553  161.229442  7065.902856  606.320480  1680.247508  \n",
       "\n",
       "[2521 rows x 500 columns]"
      ]
     },
     "execution_count": 170,
     "metadata": {},
     "output_type": "execute_result"
    }
   ],
   "source": [
    "# Run the Monte Carlo simulation to forecast 10 years cumulative returns\n",
    "MC_tenyear.calc_cumulative_return()\n"
   ]
  },
  {
   "cell_type": "code",
   "execution_count": 171,
   "metadata": {},
   "outputs": [
    {
     "data": {
      "image/png": "[encoded data removed]",
      "text/plain": [
       "<Figure size 432x288 with 1 Axes>"
      ]
     },
     "metadata": {
      "needs_background": "light"
     },
     "output_type": "display_data"
    }
   ],
   "source": [
    "# Visualize the 10-year Monte Carlo simulation by creating an\n",
    "# overlay line plot\n",
    "MC_tenyear_plot = MC_tenyear.plot_simulation()\n"
   ]
  },
  {
   "cell_type": "code",
   "execution_count": 172,
   "metadata": {},
   "outputs": [
    {
     "data": {
      "image/png": "[encoded data removed]",
      "text/plain": [
       "<Figure size 432x288 with 1 Axes>"
      ]
     },
     "metadata": {
      "needs_background": "light"
     },
     "output_type": "display_data"
    }
   ],
   "source": [
    "# Visualize the probability distribution of the 10-year Monte Carlo simulation \n",
    "# by plotting a histogram\n",
    "MC_tenyear_distribution_plot = MC_tenyear.plot_distribution()\n"
   ]
  },
  {
   "cell_type": "code",
   "execution_count": 173,
   "metadata": {},
   "outputs": [
    {
     "name": "stdout",
     "output_type": "stream",
     "text": [
      "count             500.000000\n",
      "mean             2219.307751\n",
      "std              2202.496529\n",
      "min               127.440776\n",
      "25%               893.194458\n",
      "50%              1562.119601\n",
      "75%              2806.748994\n",
      "max             20542.895937\n",
      "95% CI Lower      247.069402\n",
      "95% CI Upper     7909.601500\n",
      "Name: 2520, dtype: float64\n"
     ]
    }
   ],
   "source": [
    "# Generate summary statistics from the 10-year Monte Carlo simulation results\n",
    "# Save the results as a variable\n",
    "MC_10_summary_statistics = MC_tenyear.summarize_cumulative_return()\n",
    "\n",
    "\n",
    "# Review the 10-year Monte Carlo summary statistics\n",
    "print(MC_10_summary_statistics)"
   ]
  },
  {
   "cell_type": "markdown",
   "metadata": {},
   "source": [
    "### Answer the following questions:"
   ]
  },
  {
   "cell_type": "markdown",
   "metadata": {},
   "source": [
    "#### Question: Using the current value of only the stock and bond portion of the member's portfolio and the summary statistics that you generated from the new Monte Carlo simulation, what are the lower and upper bounds for the expected value of the portfolio (with the new weights) with a 95% confidence interval?"
   ]
  },
  {
   "cell_type": "code",
   "execution_count": 174,
   "metadata": {},
   "outputs": [
    {
     "name": "stdout",
     "output_type": "stream",
     "text": [
      "70158.79999999999\n"
     ]
    }
   ],
   "source": [
    "# Print the current balance of the stock and bond portion of the members portfolio\n",
    "print(total_stocks_bonds)\n"
   ]
  },
  {
   "cell_type": "code",
   "execution_count": 175,
   "metadata": {},
   "outputs": [
    {
     "name": "stdout",
     "output_type": "stream",
     "text": [
      "There is a 95% chance that an initial investment of $70158.80 in the portfolio with a 20/80 weight portfolio over the next 10 years will end within in the range of $17334092.77 and $554928149.69.\n"
     ]
    }
   ],
   "source": [
    "# Use the lower and upper `95%` confidence intervals to calculate the range of the possible outcomes for the current stock/bond portfolio\n",
    "ci_lower_ten_cumulative_return = MC_10_summary_statistics[8] * total_stocks_bonds\n",
    "ci_upper_ten_cumulative_return = MC_10_summary_statistics[9] * total_stocks_bonds\n",
    "\n",
    "# Print the result of your calculations\n",
    "print(f\"There is a 95% chance that an initial investment of ${(total_stocks_bonds):0.2f} in the portfolio\"\n",
    "      f\" with a 20/80 weight portfolio over the next 10 years will end within in the range of\"\n",
    "      f\" ${ci_lower_ten_cumulative_return:0.2f} and ${ci_upper_ten_cumulative_return:0.2f}.\")\n",
    "\n"
   ]
  },
  {
   "cell_type": "markdown",
   "metadata": {},
   "source": [
    "#### Question: Will weighting the portfolio more heavily to stocks allow the credit union members to retire after only 10 years?"
   ]
  },
  {
   "cell_type": "raw",
   "metadata": {},
   "source": [
    "**Answer** If this portfolio is for one member then yes. If the portfolio is for several members it would depend on the number of members included in this specific portfolio. "
   ]
  },
  {
   "cell_type": "code",
   "execution_count": null,
   "metadata": {},
   "outputs": [],
   "source": []
  }
 ],
 "metadata": {
  "kernelspec": {
   "display_name": "Python 3",
   "language": "python",
   "name": "python3"
  },
  "language_info": {
   "codemirror_mode": {
    "name": "ipython",
    "version": 3
   },
   "file_extension": ".py",
   "mimetype": "text/x-python",
   "name": "python",
   "nbconvert_exporter": "python",
   "pygments_lexer": "ipython3",
   "version": "3.7.10"
  }
 },
 "nbformat": 4,
 "nbformat_minor": 4
}
